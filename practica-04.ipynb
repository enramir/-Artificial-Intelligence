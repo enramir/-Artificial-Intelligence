{
 "cells": [
  {
   "cell_type": "markdown",
   "metadata": {},
   "source": [
    "# Práctica 4 - Inteligencia Artificial\n",
    "### Dpto. de C. de la Computación e I.A. (Univ. de Sevilla)\n",
    "\n",
    "### Variantes de k-NN"
   ]
  },
  {
   "cell_type": "markdown",
   "metadata": {},
   "source": [
    "En esta práctica vamos a implementar algunas funciones relacionadas con el algoritmo knn y algunas de sus variantes.\n",
    "\n",
    "El algoritmo basico de k-NN toma un conjunto de entrenamiento, una instancia y un parametro k y devuelve el valor de clasificacion mayoritario entre los k ejemplos del conjunto de entreanmiento mas cercanos a la instancia dada. En los priemros ejercicios, tomaremos la distancia euclidea. En el último ejercicio, usaremos la distancia de Hamming"
   ]
  },
  {
   "cell_type": "code",
   "execution_count": null,
   "metadata": {},
   "outputs": [],
   "source": [
    "import math"
   ]
  },
  {
   "cell_type": "markdown",
   "metadata": {},
   "source": [
    "### Ejercicio 1\n",
    "Definir la función dist(p1,p1) que calcule la distancia euclídea entre p1 y p2, donde p1 y p2 son dos secuencias numéricas de la misma longitud."
   ]
  },
  {
   "cell_type": "code",
   "execution_count": null,
   "metadata": {},
   "outputs": [],
   "source": []
  },
  {
   "cell_type": "code",
   "execution_count": null,
   "metadata": {},
   "outputs": [],
   "source": [
    "dist((2,3,4),(8,56,23))\n",
    "# Dalida esperada: 56.621550667568265"
   ]
  },
  {
   "cell_type": "code",
   "execution_count": null,
   "metadata": {},
   "outputs": [],
   "source": [
    "dist([12,0],[9,-4])\n",
    "# Salida esperada: 5.0"
   ]
  },
  {
   "cell_type": "markdown",
   "metadata": {},
   "source": [
    "### Ejercicio 2\n",
    "Definir la función hamming(i1,i2) que calcule la distancia de Hamming entre i1 e i2, donde i1 e i2 son secuencias de la misma longitud."
   ]
  },
  {
   "cell_type": "code",
   "execution_count": null,
   "metadata": {},
   "outputs": [],
   "source": []
  },
  {
   "cell_type": "code",
   "execution_count": null,
   "metadata": {},
   "outputs": [],
   "source": [
    "hamming([\"a\",\"b\",\"a\",\"b\",\"a\",\"a\",\"a\"],[\"b\",\"a\",\"b\",\"a\",\"b\",\"b\",\"a\"])\n",
    "# Salida esperada: 6"
   ]
  },
  {
   "cell_type": "code",
   "execution_count": null,
   "metadata": {},
   "outputs": [],
   "source": [
    "# En estos primeros ejercicios representaremos cada conjunto de\n",
    "# entrenamiento como un diccionario donde las claves son los puntos y\n",
    "# los valores del diccionario son los valores de clasificacion.  Por ejemplo:\n",
    "\n",
    "KB_knn_1 = {(0.1, 0.7, 1.3, 3.4):'SI',\n",
    "            (1.1, 0.8, 2.4, 0.3):'SI',\n",
    "            (2.1, 1.9, 1.5, 0.4):'SI',\n",
    "            (7.1, 0.0, 1.6, 0.5):'SI',\n",
    "            (3.1, 6.1, 1.7, 0.6):'SI',\n",
    "            (1.4, 3.2, 5.8, 0.7):'SI',\n",
    "            (2.1, 5.3, 1.9, 4.8):'NO',\n",
    "            (3.1, 6.2, 5.8, 0.7):'SI',\n",
    "            (4.3, 7.3, 1.9, 4.8):'NO',\n",
    "            (5.3, 8.2, 5.8, 0.7):'SI',\n",
    "            (6.2, 9.3, 1.9, 4.8):'NO',\n",
    "            (7.2, 1.2, 5.8, 0.7):'SI',\n",
    "            (8.2, 2.3, 1.9, 4.8):'NO',\n",
    "            (9.1, 3.2, 5.8, 0.7):'SI',\n",
    "            (5.1, 4.3, 1.9, 4.8):'NO',\n",
    "            (6.1, 0.4, 3.0, 0.9):'NO',\n",
    "            (7.1, 2.5, 1.1, 0.0):'NO',\n",
    "            (1.1, 0.6, 1.2, 0.1):'NO'}\n",
    "\n",
    "KB_knn_2 = {(0.1, 0.7, 1.3, 3.4):'SI',\n",
    "            (1.1, 0.8, 2.4, 0.3):'SI',\n",
    "            (2.1, 1.9, 1.5, 0.4):'SI',\n",
    "            (7.1, 0.0, 1.6, 0.5):'SI',\n",
    "            (3.1, 6.1, 1.7, 0.6):'SI',\n",
    "            (4.1, 0.2, 5.8, 0.7):'SI',\n",
    "            (5.1, 0.3, 1.9, 4.8):'NO',\n",
    "            (6.1, 0.4, 3.0, 0.9):'NO',\n",
    "            (7.1, 2.5, 1.1, 0.0):'NO',\n",
    "            (1.1, 0.6, 1.2, 0.1):'NO'}\n",
    "\n",
    "KB_knn_3 = {(21.3, 3.4):'Alto',\n",
    "            (73.4, 0.3):'Bajo',\n",
    "            (34.5, 8.4):'Alto',\n",
    "            (41.7, 7.6):'Bajo',\n",
    "            (54.6, 6.4):'Alto',\n",
    "            (61.5, 5.6):'Bajo',\n",
    "            (74.4, 4.4):'Alto',\n",
    "            (81.3, 3.6):'Bajo',\n",
    "            (94.2, 2.4):'Alto',\n",
    "            (91.1, 1.6):'Bajo',\n",
    "            (86.1, 1.7):'Mediano',\n",
    "            (34.2, 5.8):'Mediano',\n",
    "            (21.3, 1.9):'Mediano',\n",
    "            (87.4, 3.0):'Bajo'}\n",
    "\n",
    "KB_knn_4 = {(3.3,  43.4):'Bajo',\n",
    "            (4.4,  12.3):'Alto',\n",
    "            (5.5,  66.4):'Alto',\n",
    "            (6.0,  19.6):'Bajo',\n",
    "            (6.1,  11.6):'Bajo',\n",
    "            (6.4,  13.6):'Mediano',            \n",
    "            (86.2,  1.7):'Bajo',\n",
    "            (34.2,  5.7):'Alto',\n",
    "            (21.2,  1.8):'Mediano',\n",
    "            (10.4, 13.0):'Bajo'}"
   ]
  },
  {
   "cell_type": "markdown",
   "metadata": {},
   "source": [
    "### Ejercicio 3\n",
    "\n",
    "Definir la función knn(ej,kb,k) que reciba un ejemplo ej, un conjunto de entrenamiento kb y un número narueal k y deveulva el valor de clasificación del ejemplo según el algoritmo knn. (Consideraremos que el valor de k es mayor o igual que 1 y menor o igual que el numero de ejemplos del conjunto kb)."
   ]
  },
  {
   "cell_type": "code",
   "execution_count": null,
   "metadata": {},
   "outputs": [],
   "source": []
  },
  {
   "cell_type": "code",
   "execution_count": null,
   "metadata": {},
   "outputs": [],
   "source": [
    "knn((0.1,0.7,0.4,1.2),KB_knn_1,5)\n",
    "# Salida esperada: 'SI'"
   ]
  },
  {
   "cell_type": "code",
   "execution_count": null,
   "metadata": {},
   "outputs": [],
   "source": [
    "knn((12.1,11.2),KB_knn_3,7)\n",
    "# Salida esperada: 'Alto'"
   ]
  },
  {
   "cell_type": "markdown",
   "metadata": {},
   "source": [
    "### Ejercicio 4\n",
    "Dados dos conjuntos de entrenamiento Entr y Prueba, diremos que la medida de rendimiento del algoritmo k-NN usando el parametro k es la proporcion de ejemplos de Prueba que estan bien clasificados usando Entr con el parametro k para realizar la clasificacion. Se pide definir la funcion mr(Entrenamiento,Prueba,k) que devuelva la medida de rendimiento asociada a esos valores."
   ]
  },
  {
   "cell_type": "code",
   "execution_count": null,
   "metadata": {},
   "outputs": [],
   "source": []
  },
  {
   "cell_type": "code",
   "execution_count": null,
   "metadata": {},
   "outputs": [],
   "source": [
    "mr(KB_knn_1,KB_knn_2,3)\n",
    "# Salida esperada: 07"
   ]
  },
  {
   "cell_type": "code",
   "execution_count": null,
   "metadata": {},
   "outputs": [],
   "source": [
    "mr(KB_knn_3,KB_knn_4,7)\n",
    "# Salida esperada: 0.4"
   ]
  },
  {
   "cell_type": "code",
   "execution_count": null,
   "metadata": {},
   "outputs": [],
   "source": [
    "mr(KB_knn_2,KB_knn_1,5)\n",
    "# Salida esperada: 0.6111111111111112"
   ]
  },
  {
   "cell_type": "markdown",
   "metadata": {},
   "source": [
    "### Ejercicio 5:\n",
    "\n",
    "Definir la función elige_k(Entr,Prueba) que devuelva el valor de k que proporcione la mejor medida de rendimiento para los conjuntos Entr y Prueba. En caso de igualdad, devolver el valor de k mas alto. (Nota: El valor de k debe ser mayor o igual que 1 y menor o igual que el numero de ejemplos del conjunto Entr)."
   ]
  },
  {
   "cell_type": "code",
   "execution_count": null,
   "metadata": {},
   "outputs": [],
   "source": []
  },
  {
   "cell_type": "code",
   "execution_count": null,
   "metadata": {},
   "outputs": [],
   "source": [
    "elige_k(KB_knn_1,KB_knn_2)\n",
    "# Salida esperada: 1"
   ]
  },
  {
   "cell_type": "code",
   "execution_count": null,
   "metadata": {},
   "outputs": [],
   "source": [
    "elige_k(KB_knn_3,KB_knn_4)\n",
    "# Salida esperada: 14"
   ]
  },
  {
   "cell_type": "code",
   "execution_count": null,
   "metadata": {},
   "outputs": [],
   "source": [
    "elige_k(KB_knn_2,KB_knn_1)\n",
    "# Salida esperada: 8"
   ]
  },
  {
   "cell_type": "markdown",
   "metadata": {},
   "source": [
    "### Ejercicio 6:\n",
    "\n",
    "El NCC (Nearest Centroid Classifier) es un modelo de aprendizaje que puede considerarse una variante del metodo k-NN. Dados un conjunto de entrenamiento formado por puntos de R^n junto con su clasificacion y un nuevo punto, NCC asigna al nuevo punto la clasificacion de la clase cuyo centroide este mas cercano al punto. Se pide definir la funcion ncc(ce,p) que reciba un conjunto de entrenamiento ce y un punto p y devuelva el valor de clasificacion del punto usando el metodo ncc. (Nota: Debes obtener los posibles valores de clasificacion, luego obtener el centroide de los puntos del conjunto de entrenamiento que tienen el mismo valor de clasificacion y calcular la distancia de p a cada uno de los centroides. El valor devuelto sera el de la clasificacion del centroide mas cercano)."
   ]
  },
  {
   "cell_type": "code",
   "execution_count": null,
   "metadata": {},
   "outputs": [],
   "source": []
  },
  {
   "cell_type": "code",
   "execution_count": null,
   "metadata": {},
   "outputs": [],
   "source": [
    "ncc(KB_knn_1,(3.1, 0.0, 12.3, 3.5))\n",
    "# Salida esperada: 'SI'"
   ]
  },
  {
   "cell_type": "code",
   "execution_count": null,
   "metadata": {},
   "outputs": [],
   "source": [
    "ncc(KB_knn_3,(13.1, 7.4))\n",
    "# Salida esperada: 'Mediano'"
   ]
  },
  {
   "cell_type": "markdown",
   "metadata": {},
   "source": [
    "### Ejercicio 7\n",
    "\n",
    "Otra variante del metodo k-NN es el metodo que incorpora la posibilidad de rechazo.  En este metodo se proporciona un conjunto de entrenamiento, un valor k, un punto y un umbral La funcion considera los k puntos del conjunto de entrenamiento mas cercanos al punto y devuelve el valor de clasificacion mayoritario en esos k puntos solo si el numero de puntos con esa clasificacion supera el umbral. Por ejemplo, si consideramos k=12 y de los 12 puntos mas cercanos hay 8 con clasificacion A, 3 con clasificacion B y 1 con clasificacion C, y el umbral es 7, entonces el valor de clasificacion es A. En cambio, si el umbral es 9, el resultado debe ser 'NO CLASIFICADO'. Define knn_rechazo(ce,k,umbral,p)"
   ]
  },
  {
   "cell_type": "code",
   "execution_count": null,
   "metadata": {},
   "outputs": [],
   "source": []
  },
  {
   "cell_type": "code",
   "execution_count": null,
   "metadata": {},
   "outputs": [],
   "source": [
    "knn_rechazo(KB_knn_1,7,5,(0.0, 2.4, 9.6, 7.3))\n",
    "# Salida esperada: 'NO CLASIFICADO'"
   ]
  },
  {
   "cell_type": "code",
   "execution_count": null,
   "metadata": {},
   "outputs": [],
   "source": [
    "knn_rechazo(KB_knn_3,7,2,(9.6, 7.2))\n",
    "# Salida esperada:'Alto'"
   ]
  },
  {
   "cell_type": "markdown",
   "metadata": {},
   "source": [
    "### Ejercicio 8\n",
    "\n",
    "Ahora consideraremos k-NN con pesos. En esta variante tomaremos los k vecinos mas cercanos, pero no todos ellos tienen la misma influencia en la decision final. En este algoritmo a cada uno de los k vecinos mas cercanos se les asigna un peso. La clasificacion del punto p sera el valor de la clasificacion a la que corresponda mayor suma de pesos.  Dada una nueva instancia p y un punto del conjunto de entrenamiento x, tomaremos como peso de x el valor 1 / dist(p,x), esto es, 1 partido por la distancia euclidea entre p y x. Se pide definir knn_pesos(ce,k,p)"
   ]
  },
  {
   "cell_type": "code",
   "execution_count": null,
   "metadata": {},
   "outputs": [],
   "source": []
  },
  {
   "cell_type": "code",
   "execution_count": null,
   "metadata": {},
   "outputs": [],
   "source": [
    "knn_pesos(KB_knn_1,9,(2.0, 7.4, 19.6, 7.8))\n",
    "# Salida esperada: 'SI'"
   ]
  },
  {
   "cell_type": "code",
   "execution_count": null,
   "metadata": {},
   "outputs": [],
   "source": [
    "knn_pesos(KB_knn_3,7,(2.0, 7.4))\n",
    "# Salida esperada: 'Alto'"
   ]
  },
  {
   "cell_type": "markdown",
   "metadata": {},
   "source": [
    "### Ejercicio 9\n",
    "En este ejercicio implementaremos una variante del algoritmo knn llamada knn_min. Además, cambiaremos el sistema de representación. Representaremos un conjunto de entrenamiento como una lista de dos listas. La primera de ellas es la lista de atributos y la segunda es la lista de ejemplos. Un ejemplo a su vez es una lista de valores como muestran los siguientes ejemplos. Consideraremos siempre que el último atributo representa la clasificacion y que los posibles valores de clasificacion son 'SI' y 'NO'."
   ]
  },
  {
   "cell_type": "code",
   "execution_count": null,
   "metadata": {},
   "outputs": [],
   "source": [
    "CE_1 = [ ['Edad','Astigmatismo','Lagrima','Lente'], \n",
    "        [['Joven'        ,'NO' , 'Baja'  ,'NO'],\n",
    "         ['Joven'        ,'NO' , 'Normal','NO'],\n",
    "         ['Joven'        ,'SI' , 'Alta'  ,'SI'],\n",
    "         ['Joven'        ,'SI' , 'Normal','SI'],\n",
    "         ['Prepresbicia' ,'NO' , 'Baja'  ,'SI'],\n",
    "         ['Prepresbicia' ,'NO' , 'Normal','NO'],\n",
    "         ['Prepresbicia' ,'SI' , 'Baja'  ,'NO'],\n",
    "         ['Prepresbicia' ,'SI' , 'Alta'  ,'SI'],\n",
    "         ['Presbicia'    ,'NO' , 'Baja'  ,'NO'],\n",
    "         ['Presbicia'    ,'NO' , 'Normal','NO'],\n",
    "         ['Presbicia'    ,'NO' , 'Alta'  ,'NO'],\n",
    "         ['Presbicia'    ,'SI' , 'Baja'  ,'NO'],\n",
    "         ['Presbicia'    ,'SI' , 'Normal','SI']]]\n",
    "\n",
    "CE_2 = [ ['Cielo','Temperatura','Humedad','Viento','Deporte'],\n",
    "        [['Soleado', 'Alta' , 'Alta'  , 'Debil' , 'NO'],\n",
    "         ['Soleado', 'Alta' , 'Alta'  , 'Fuerte', 'NO'],\n",
    "         ['Nublado', 'Alta' , 'Alta'  , 'Debil' , 'SI'],\n",
    "         ['Lluvia' , 'Suave', 'Alta'  , 'Debil' , 'SI'],\n",
    "         ['Lluvia' , 'Baja' , 'Normal', 'Debil' , 'SI'],\n",
    "         ['Lluvia' , 'Baja' , 'Normal', 'Fuerte', 'NO'],\n",
    "         ['Nublado', 'Baja' , 'Normal', 'Fuerte', 'SI'],\n",
    "         ['Soleado', 'Suave', 'Alta'  , 'Debil' , 'NO'],\n",
    "         ['Soleado', 'Baja' , 'Normal', 'Debil' , 'SI'],\n",
    "         ['Lluvia' , 'Suave', 'Normal', 'Debil' , 'SI'],\n",
    "         ['Soleado', 'Suave', 'Normal', 'Fuerte', 'SI'],\n",
    "         ['Nublado', 'Suave', 'Alta'  , 'Fuerte', 'SI'],\n",
    "         ['Nublado', 'Alta' , 'Normal', 'Debil' , 'SI'],\n",
    "         ['Lluvia' , 'Suave', 'Alta'  , 'Fuerte', 'NO']]]  "
   ]
  },
  {
   "cell_type": "markdown",
   "metadata": {},
   "source": [
    "Una instancia consistente con un conjunto de entrenamiento es una lista de valores de los atributos del conjunto en el orden correspondiente (sin el valor de clasificacion)."
   ]
  },
  {
   "cell_type": "code",
   "execution_count": null,
   "metadata": {},
   "outputs": [],
   "source": [
    "# Asi, i_a e i_b son instancias consistentes con CE_1\n",
    "\n",
    "i_a = ['Presbicia', 'SI' , 'Alta']\n",
    "i_b = ['Joven'    , 'NO' , 'Alta']\n",
    "\n",
    "# y i_c e i_d son instancias consistentes con CE_2\n",
    "\n",
    "i_c = ['Soleado', 'Suave', 'Alta', 'Fuerte']\n",
    "i_d = ['Lluvia' , 'Suave', 'Alta', 'Debil' ]"
   ]
  },
  {
   "cell_type": "markdown",
   "metadata": {},
   "source": [
    "En el metodo knn_min calculamos la distancia de todos los ejemplos del conjunto de entrenamiento a la instancia I. Si MIN es la distancia minima de un ejemplo de D a I, el metodo da a I la clasificacion mayoritaria entre todos los ejemplos que esten a distancia I. Por ejemplo, si tomamos la instancia i_a y el conjunto de entrenamiento CE_1, vemos que con la distancia de Hamming hay ejemplos a distancia 1, pero no hay ejemplos a distancia 0, por lo tanto MIN vale 1. A continuacion vemos que hay 5 ejemplos a distancia 1, de los cuales 3 tienen clasificacion 'SI' y 2 tienen clasificacion 2 por tanto la clasificacion de i_a a partir de CE_1 usando knn_min es 'SI'. \n",
    "\n",
    "Supondremos siempre que I es una instancia compatible con D.  En caso de empate entre el numero de 'SI' y 'NO', debe devolver 'SI'. Ademas, la funcion debe informar del valor minimo y de cuantos ejemplos con valor minimo hay de cada clasificacion \n",
    "\n",
    "Definir la funcion knn_min(D,I) que calcule la clasificacion que obtendria la instancia I mediante el metodo kNN_min a partir del conjunto de entrenamiento D y usando la distancia de Hamming.  "
   ]
  },
  {
   "cell_type": "code",
   "execution_count": null,
   "metadata": {},
   "outputs": [],
   "source": []
  },
  {
   "cell_type": "code",
   "execution_count": null,
   "metadata": {},
   "outputs": [],
   "source": [
    "knn_min(CE_1,i_a)\n",
    "# Salida esperada:'SI'"
   ]
  },
  {
   "cell_type": "code",
   "execution_count": null,
   "metadata": {},
   "outputs": [],
   "source": [
    "knn_min(CE_1,i_b)\n",
    "# Salida esperada:'NO'"
   ]
  },
  {
   "cell_type": "code",
   "execution_count": null,
   "metadata": {},
   "outputs": [],
   "source": [
    "knn_min(CE_2,i_c)\n",
    "# Salida esperada: 'NO'"
   ]
  },
  {
   "cell_type": "code",
   "execution_count": null,
   "metadata": {},
   "outputs": [],
   "source": [
    "knn_min(CE_2,i_d)\n",
    "# Salida esperada: 'SI'"
   ]
  }
 ],
 "metadata": {
  "kernelspec": {
   "display_name": "Python 3",
   "language": "python",
   "name": "python3"
  },
  "language_info": {
   "codemirror_mode": {
    "name": "ipython",
    "version": 3
   },
   "file_extension": ".py",
   "mimetype": "text/x-python",
   "name": "python",
   "nbconvert_exporter": "python",
   "pygments_lexer": "ipython3",
   "version": "3.6.6"
  }
 },
 "nbformat": 4,
 "nbformat_minor": 2
}
