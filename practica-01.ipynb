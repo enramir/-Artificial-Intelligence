{
 "cells": [
  {
   "cell_type": "markdown",
   "metadata": {},
   "source": [
    "# Práctica 1 - Inteligencia Artificial"
   ]
  },
  {
   "cell_type": "markdown",
   "metadata": {},
   "source": [
    "***\n",
    "### Ejercicio 1:\n",
    "Escribir una función cuadrados(l) que recibiendo una secuencia l de números, devuelve la lista de los cuadrados de esos números, en el mismo orden. Por ejemplo:\n",
    "\n",
    "cuadrados([4,1,5.2,3,8])\n",
    "\n",
    "[16, 1, 27.040000000000003, 9, 64]\n",
    "\n",
    "Hacer dos versiones: una usando un bucle explícito, y la otra mediante definición de listas por comprensión."
   ]
  },
  {
   "cell_type": "code",
   "execution_count": null,
   "metadata": {
    "collapsed": true
   },
   "outputs": [],
   "source": [
    "# Escribe aquí las solución. Llama cuad_1 a la solución con bucle explícito \n",
    "# y cuad_2 a la solución mediante listas por comprensión\n",
    "\n"
   ]
  },
  {
   "cell_type": "markdown",
   "metadata": {},
   "source": [
    "Puedes probar con los siguientes ejemplos"
   ]
  },
  {
   "cell_type": "code",
   "execution_count": null,
   "metadata": {
    "collapsed": true
   },
   "outputs": [],
   "source": [
    "cuad_1([4,1,5.2,3,8])\n",
    "# Salida esperada: [16, 1, 27.040000000000003, 9, 64]"
   ]
  },
  {
   "cell_type": "code",
   "execution_count": null,
   "metadata": {
    "collapsed": true
   },
   "outputs": [],
   "source": [
    "cuad_2([-2,0,9,45])\n",
    "# Salida esperada: [4, 0, 81, 2025]"
   ]
  },
  {
   "cell_type": "markdown",
   "metadata": {},
   "source": [
    "***\n",
    "### Ejercicio 2\n",
    "Definir una función vocales_consonantes(s), que reciba una cadena de caracteres s (de letras mayúsculas) y escribe por pantalla, una a una, si sus letras son vocales o  consonantes."
   ]
  },
  {
   "cell_type": "code",
   "execution_count": 1,
   "metadata": {
    "collapsed": true
   },
   "outputs": [],
   "source": [
    "def vocales_consonantes(s):\n",
    "    vocales = \"AEIOU\"\n",
    "    for i in s:\n",
    "        if vocales.find(i)==-1:\n",
    "            print(\"{0} es consonante\".format(i))\n",
    "        else:\n",
    "            print(\"{0} es vocal\".format(i))"
   ]
  },
  {
   "cell_type": "code",
   "execution_count": 2,
   "metadata": {},
   "outputs": [
    {
     "name": "stdout",
     "output_type": "stream",
     "text": [
      "I es vocal\n",
      "N es consonante\n",
      "T es consonante\n",
      "E es vocal\n",
      "L es consonante\n",
      "I es vocal\n",
      "G es consonante\n",
      "E es vocal\n",
      "N es consonante\n",
      "C es consonante\n",
      "I es vocal\n",
      "A es vocal\n"
     ]
    }
   ],
   "source": [
    "vocales_consonantes(\"INTELIGENCIA\")\n",
    "# Salida esperada:\n",
    "# I es vocal\n",
    "# N es consonante\n",
    "# T es consonante\n",
    "# E es vocal\n",
    "# L es consonante\n",
    "# I es vocal\n",
    "# G es consonante\n",
    "# E es vocal\n",
    "# N es consonante\n",
    "# C es consonante\n",
    "# I es vocal\n",
    "# A es vocal"
   ]
  },
  {
   "cell_type": "markdown",
   "metadata": {},
   "source": [
    "***\n",
    "### Ejercicio 3\n",
    "\n",
    "Usando como técnica principal la definición de secuencias por comprensión, definir las siguientes funciones:"
   ]
  },
  {
   "cell_type": "markdown",
   "metadata": {},
   "source": [
    "a) Dada una lista de números naturales, la suma de los cuadrados de los números pares de la lista."
   ]
  },
  {
   "cell_type": "code",
   "execution_count": 5,
   "metadata": {
    "collapsed": true
   },
   "outputs": [],
   "source": [
    "def suma_cuadrados(l):\n",
    "    return sum([a*a for a in l if a%2==0])"
   ]
  },
  {
   "cell_type": "code",
   "execution_count": 6,
   "metadata": {},
   "outputs": [
    {
     "data": {
      "text/plain": [
       "120"
      ]
     },
     "execution_count": 6,
     "metadata": {},
     "output_type": "execute_result"
    }
   ],
   "source": [
    "suma_cuadrados([9,4,2,6,8,1])\n",
    "# Salida esperada: 120"
   ]
  },
  {
   "cell_type": "markdown",
   "metadata": {},
   "source": [
    "b) Dada una lista de números l=[a(1),...,a(n)], calcular el sumatorio de i=1 hasta n de i*a(i)."
   ]
  },
  {
   "cell_type": "code",
   "execution_count": 11,
   "metadata": {
    "collapsed": true
   },
   "outputs": [],
   "source": [
    "def b1(l1):\n",
    "    return sum([(i+1)*l1[i] for i in range(len(l1))])"
   ]
  },
  {
   "cell_type": "code",
   "execution_count": 12,
   "metadata": {},
   "outputs": [
    {
     "data": {
      "text/plain": [
       "110"
      ]
     },
     "execution_count": 12,
     "metadata": {},
     "output_type": "execute_result"
    }
   ],
   "source": [
    "b1([2,4,6,8,10])\n",
    "# Salida esperada: 110"
   ]
  },
  {
   "cell_type": "markdown",
   "metadata": {},
   "source": [
    "c) Dados dos listas numéricas de la misma longitud, representado dos puntos n-dimensionales, calcular la distancia euclídea entre ellos. "
   ]
  },
  {
   "cell_type": "code",
   "execution_count": 12,
   "metadata": {
    "collapsed": true
   },
   "outputs": [],
   "source": [
    "import math\n",
    "def distancia(p1,p2):\n",
    "    acum=0\n",
    "    n=len(p1)\n",
    "    for i in range(n):\n",
    "        acum += (p1[i]-p2[i])**2\n",
    "    return math.sqrt(acum)\n",
    "\n",
    "def distancia1(p1,p2):\n",
    "    acum=0\n",
    "    for x,y in zip(p1,p2):\n",
    "        acum+=(x-y)**2\n",
    "    return math.sqrt(acum)\n",
    "\n",
    "def distancia2(p1,p2):\n",
    "    return math.sqrt(sum([(a-b)**2 for a,b in zip(p1,p2)]))\n",
    "    "
   ]
  },
  {
   "cell_type": "code",
   "execution_count": 15,
   "metadata": {},
   "outputs": [
    {
     "data": {
      "text/plain": [
       "2.449489742783178"
      ]
     },
     "execution_count": 15,
     "metadata": {},
     "output_type": "execute_result"
    }
   ],
   "source": [
    "distancia2([3,1,2],[1,2,1])\n",
    "# Salida esperada: 2.449489742783178"
   ]
  },
  {
   "cell_type": "markdown",
   "metadata": {},
   "source": [
    "d) Dada una lista y una función de un argumento, devolver la lista de los resultados de aplicar la función a cada elemento de la lista."
   ]
  },
  {
   "cell_type": "code",
   "execution_count": 46,
   "metadata": {
    "collapsed": true
   },
   "outputs": [],
   "source": [
    "def map_mio(p,l1):\n",
    "    return [abs(a) for a in l1]"
   ]
  },
  {
   "cell_type": "code",
   "execution_count": 47,
   "metadata": {},
   "outputs": [
    {
     "data": {
      "text/plain": [
       "[2, 3, 4, 1]"
      ]
     },
     "execution_count": 47,
     "metadata": {},
     "output_type": "execute_result"
    }
   ],
   "source": [
    "map_mio(abs,[-2,-3,-4,-1])\n",
    "# Salida esperada: [2, 3, 4, 1]"
   ]
  },
  {
   "cell_type": "markdown",
   "metadata": {},
   "source": [
    "e) Dada un par de listas (de la misma longitud) y una función de dos argumentos, devolver la lista de los resultados de aplicar la función a cada par de elementos que ocupan la misma posición en las listas de entrada."
   ]
  },
  {
   "cell_type": "code",
   "execution_count": 53,
   "metadata": {
    "collapsed": true
   },
   "outputs": [],
   "source": [
    "def map2_mio(p,l1,l2):\n",
    "    return [(x+y) for x,y in zip(l1,l2)]\n",
    "    "
   ]
  },
  {
   "cell_type": "code",
   "execution_count": 54,
   "metadata": {},
   "outputs": [
    {
     "data": {
      "text/plain": [
       "[6, 4, 10, 13]"
      ]
     },
     "execution_count": 54,
     "metadata": {},
     "output_type": "execute_result"
    }
   ],
   "source": [
    "map2_mio((lambda x,y: x+y) ,[1,2,3,4],[5,2,7,9])\n",
    "# Salida esperada: [6, 4, 10, 13]"
   ]
  },
  {
   "cell_type": "markdown",
   "metadata": {},
   "source": [
    "f) Dada una lista de números, contar el número de elementos que sean múltiplos de tres y distintos de cero. "
   ]
  },
  {
   "cell_type": "code",
   "execution_count": 14,
   "metadata": {
    "collapsed": true
   },
   "outputs": [],
   "source": [
    "def m3_no_nulos(l1):\n",
    "    return sum([1 for a in l1 if a%3==0 and a!=0])"
   ]
  },
  {
   "cell_type": "code",
   "execution_count": 15,
   "metadata": {},
   "outputs": [
    {
     "data": {
      "text/plain": [
       "3"
      ]
     },
     "execution_count": 15,
     "metadata": {},
     "output_type": "execute_result"
    }
   ],
   "source": [
    "m3_no_nulos([4,0,6,7,0,9,18])\n",
    "# Salida esperada: 3"
   ]
  },
  {
   "cell_type": "markdown",
   "metadata": {},
   "source": [
    "g) Dadas dos listas de la misma longitud, contar el número de posiciones en las que coinciden los elementos de ambas listas.  "
   ]
  },
  {
   "cell_type": "code",
   "execution_count": 20,
   "metadata": {
    "collapsed": true
   },
   "outputs": [],
   "source": [
    "def cuenta_coincidentes(l1,l2):\n",
    "    return sum([1 for a,b in zip(l1,l2) if a==b])"
   ]
  },
  {
   "cell_type": "code",
   "execution_count": 21,
   "metadata": {},
   "outputs": [
    {
     "data": {
      "text/plain": [
       "3"
      ]
     },
     "execution_count": 21,
     "metadata": {},
     "output_type": "execute_result"
    }
   ],
   "source": [
    "cuenta_coincidentes([4,2,6,8,9,3],[3,2,1,8,9,6])\n",
    "# Salida esperada: 3"
   ]
  },
  {
   "cell_type": "markdown",
   "metadata": {},
   "source": [
    "h) Dadas dos listas de la misma longitud, devolver un diccionario que tiene como claves las posiciones  en las que coinciden los elementos de ambas listas, y como valor de esas claves, el elemento coincidente. "
   ]
  },
  {
   "cell_type": "code",
   "execution_count": 27,
   "metadata": {
    "collapsed": true
   },
   "outputs": [],
   "source": [
    "def dic_posiciones_coincidentes(l1,l2):\n",
    "    return {i:l1[i] for i in range(len(l2)) if l1[i]==l2[i]}"
   ]
  },
  {
   "cell_type": "code",
   "execution_count": 23,
   "metadata": {},
   "outputs": [
    {
     "data": {
      "text/plain": [
       "{1: 8, 2: 1, 3: 2, 4: 1}"
      ]
     },
     "execution_count": 23,
     "metadata": {},
     "output_type": "execute_result"
    }
   ],
   "source": [
    "dic_posiciones_coincidentes([2,8,1,2,1,3],[1,8,1,2,1,6])\n",
    "# Salida esperada: {1: 8, 2: 1, 3: 2, 4: 1}"
   ]
  },
  {
   "cell_type": "markdown",
   "metadata": {},
   "source": [
    "***\n",
    "### Ejercicio 4\n",
    "\n",
    "Un número es perfecto si es la suma de todos sus divisores (excepto él mismo). Definir una función filtra_perfectos(n,m,p) que imprime por pantalla todos los números perfectos entre n y m que cumplen la condición p. Se pide también que se indiquen los divisores de cada número perfecto que se imprima."
   ]
  },
  {
   "cell_type": "code",
   "execution_count": 26,
   "metadata": {
    "collapsed": true
   },
   "outputs": [],
   "source": [
    "def divisores(n):\n",
    "    return [ i for i in range(1,n) if n%i == 0]\n",
    "    \n",
    "def filtra_perfectos(n,m,p):\n",
    "    l1 = [a for a in range(n,m+1) if p(a)==True and sum(divisores(a)) == a]\n",
    "    for i in l1:\n",
    "        print(\"El {0} es perfecto y sus divisores son {1}\".format(i,divisores(i)))"
   ]
  },
  {
   "cell_type": "code",
   "execution_count": 8,
   "metadata": {},
   "outputs": [
    {
     "name": "stdout",
     "output_type": "stream",
     "text": [
      "El 6 es perfecto y sus divisores son [1, 2, 3]\n",
      "El 28 es perfecto y sus divisores son [1, 2, 4, 7, 14]\n",
      "El 496 es perfecto y sus divisores son [1, 2, 4, 8, 16, 31, 62, 124, 248]\n"
     ]
    }
   ],
   "source": [
    "filtra_perfectos(3,500, lambda x: True)\n",
    "# Salida esperada:\n",
    "# El 6 es perfecto y sus divisores son [1, 2, 3]\n",
    "# El 28 es perfecto y sus divisores son [1, 2, 4, 7, 14]\n",
    "# El 496 es perfecto y sus divisores son [1, 2, 4, 8, 16, 31, 62, 124, 248]"
   ]
  },
  {
   "cell_type": "code",
   "execution_count": 9,
   "metadata": {},
   "outputs": [
    {
     "name": "stdout",
     "output_type": "stream",
     "text": [
      "El 28 es perfecto y sus divisores son [1, 2, 4, 7, 14]\n"
     ]
    }
   ],
   "source": [
    "filtra_perfectos(3,500, lambda x: (x%7==0))\n",
    "# Salida esperada:\n",
    "# El 28 es perfecto y sus divisores son [1, 2, 4, 7, 14]"
   ]
  },
  {
   "cell_type": "markdown",
   "metadata": {},
   "source": [
    "***\n",
    "### Ejercicio 5\n",
    "\n",
    "Supongamos que recibimos un diccionario cuyas claves son cadenas de caracteres de longitud uno y los valores asociados son números enteros \n",
    "entre 0 y 50. Definir una función histograma_horizontal(d), que recibiendo un diccionario de ese tipo, escribe un histograma de \n",
    "barras horizontales asociado (ver ejemplo). Nota: imprimir las barras, de arriba a abajo, en el orden que determina la función \"sorted\" sobre las claves "
   ]
  },
  {
   "cell_type": "code",
   "execution_count": 63,
   "metadata": {
    "collapsed": true
   },
   "outputs": [],
   "source": [
    "def histograma_horizontal(d1):\n",
    "    for k in d1:\n",
    "        print(\"{}: {}\".format(k,\"*\"*d1[k]))\n",
    "    "
   ]
  },
  {
   "cell_type": "code",
   "execution_count": 64,
   "metadata": {},
   "outputs": [
    {
     "name": "stdout",
     "output_type": "stream",
     "text": [
      "a: *****\n",
      "b: **********\n",
      "c: ************\n",
      "d: ***********\n",
      "e: ***************\n",
      "f: ********************\n",
      "g: ***************\n",
      "h: *********\n",
      "i: *******\n",
      "j: **\n"
     ]
    }
   ],
   "source": [
    "d1={\"a\":5,\"b\":10,\"c\":12,\"d\":11,\"e\":15,\"f\":20,\"g\":15,\"h\":9,\"i\":7,\"j\":2}\n",
    "histograma_horizontal(d1)\n",
    "# Salida esperada:\n",
    "# a: *****\n",
    "# b: **********\n",
    "# c: ************\n",
    "# d: ***********\n",
    "# e: ***************\n",
    "# f: ********************\n",
    "# g: ***************\n",
    "# h: *********\n",
    "# i: *******\n",
    "# j: **"
   ]
  },
  {
   "cell_type": "markdown",
   "metadata": {},
   "source": [
    "***\n",
    "### Ejercicio 6\n",
    "Con la misma entrada que el ejercicio anterior, definir una función histograma_vertical(d) que imprime el mismo histograma pero con las barras en vertical. "
   ]
  },
  {
   "cell_type": "code",
   "execution_count": 35,
   "metadata": {
    "collapsed": true
   },
   "outputs": [],
   "source": [
    "def histograma_vertical(d):\n",
    "    ks=sorted(d.keys())\n",
    "    maxv=max(d.values())\n",
    "    for n_lin in range(maxv,0,-1):\n",
    "        lin=\" \"\n",
    "        for k in ks:\n",
    "            if d[k]>=n_lin:\n",
    "                lin+=\"*\"\n",
    "            else:\n",
    "                lin+=\" \"\n",
    "        print(lin)\n",
    "    print(\" \".join(ks))"
   ]
  },
  {
   "cell_type": "code",
   "execution_count": 36,
   "metadata": {},
   "outputs": [
    {
     "name": "stdout",
     "output_type": "stream",
     "text": [
      "      *    \n",
      "      *    \n",
      "      *    \n",
      "      *    \n",
      "      *    \n",
      "     ***   \n",
      "     ***   \n",
      "     ***   \n",
      "    ****   \n",
      "    ****   \n",
      "    ****   \n",
      "   ******  \n",
      "   ******  \n",
      "  ******** \n",
      "  ******** \n",
      " ********* \n",
      " ********* \n",
      " ********* \n",
      " **********\n",
      " **********\n",
      "a b c d e f g h i j\n"
     ]
    }
   ],
   "source": [
    "d2={\"a\":5,\"b\":7,\"c\":9,\"d\":12,\"e\":15,\"f\":20,\"g\":15,\"h\":9,\"i\":7,\"j\":2}\n",
    "histograma_vertical(d2)\n",
    "# Salida esperada:\n",
    "#           *         \n",
    "#           *         \n",
    "#           *         \n",
    "#           *         \n",
    "#           *         \n",
    "#         * * *       \n",
    "#         * * *       \n",
    "#         * * *       \n",
    "#       * * * *       \n",
    "#       * * * *       \n",
    "#       * * * *       \n",
    "#     * * * * * *     \n",
    "#     * * * * * *     \n",
    "#   * * * * * * * *   \n",
    "#   * * * * * * * *   \n",
    "# * * * * * * * * *   \n",
    "# * * * * * * * * *   \n",
    "# * * * * * * * * *   \n",
    "# * * * * * * * * * * \n",
    "# * * * * * * * * * * \n",
    "# a b c d e f g h i j\n"
   ]
  },
  {
   "cell_type": "markdown",
   "metadata": {},
   "source": [
    "***\n",
    "### Ejercicio 7\n",
    "\n",
    "Definir la función compresion(l) que devuelva la lista resultante de comprimir la lista l que recibe como entrada, en el siguiente sentido: \n",
    "* Si el elemento x aparece n (n > 1) veces de manera consecutiva en l sustituimos esas n ocurrencias por la tupla (n, x)\n",
    "* Si el elemento x es distinto de sus vecinos, entonces lo dejamos igual"
   ]
  },
  {
   "cell_type": "code",
   "execution_count": null,
   "metadata": {
    "collapsed": true
   },
   "outputs": [],
   "source": []
  },
  {
   "cell_type": "code",
   "execution_count": null,
   "metadata": {
    "collapsed": true
   },
   "outputs": [],
   "source": [
    "compresión([1, 1, 1, 2, 1, 3, 2, 4, 4, 6, 8, 8, 8])\n",
    "# Salida esperada:\n",
    "#  [[3, 1], 2, 1, 3, 2, [2, 4], 6, [3, 8]]"
   ]
  },
  {
   "cell_type": "code",
   "execution_count": null,
   "metadata": {
    "collapsed": true
   },
   "outputs": [],
   "source": [
    "compresión([\"a\", \"a\", \"a\", \"b\", \"a\", \"c\", \"b\", \"d\", \"d\", \"f\", \"h\", \"h\", \"h\"])\n",
    "# Salida esperada:\n",
    "#  [[3, 'a'], 'b', 'a', 'c', 'b', [2, 'd'], 'f', [3, 'h']]"
   ]
  },
  {
   "cell_type": "markdown",
   "metadata": {},
   "source": [
    "***\n",
    "### Ejercicio 8\n",
    "\n",
    "Definir la función descompresión(l) que devuelva la lista l descomprimida, suponiendo que ha sido comprimida con el método del apartado anterior."
   ]
  },
  {
   "cell_type": "code",
   "execution_count": null,
   "metadata": {
    "collapsed": true
   },
   "outputs": [],
   "source": []
  },
  {
   "cell_type": "code",
   "execution_count": null,
   "metadata": {
    "collapsed": true
   },
   "outputs": [],
   "source": [
    "descompresión([[3, 1], 2, 1, 3, 2, [2, 4], 6, [3, 8]])\n",
    "# Solución esperada:\n",
    "#  [1, 1, 1, 2, 1, 3, 2, 4, 4, 6, 8, 8, 8]"
   ]
  },
  {
   "cell_type": "markdown",
   "metadata": {},
   "source": [
    "***\n",
    "### Ejercicio 9\n",
    "\n",
    "La profundidad de una lista anidada es el número máximo de anidamientos en la lista. Definir una función profundidad(l) que calcula la profundidad de una lista dada."
   ]
  },
  {
   "cell_type": "code",
   "execution_count": null,
   "metadata": {
    "collapsed": true
   },
   "outputs": [],
   "source": []
  },
  {
   "cell_type": "code",
   "execution_count": null,
   "metadata": {
    "collapsed": true
   },
   "outputs": [],
   "source": [
    "profundidad(3)\n",
    "# Salida esperada:\n",
    "# 0"
   ]
  },
  {
   "cell_type": "code",
   "execution_count": null,
   "metadata": {
    "collapsed": true
   },
   "outputs": [],
   "source": [
    "profundidad([7,5,9,5,6])\n",
    "# Salida esperada:\n",
    "# 1"
   ]
  },
  {
   "cell_type": "code",
   "execution_count": null,
   "metadata": {
    "collapsed": true
   },
   "outputs": [],
   "source": [
    "profundidad([1,[1,[1,[1,1],1],[1,1]],1])\n",
    "# Salida esperada:\n",
    "# 4"
   ]
  },
  {
   "cell_type": "markdown",
   "metadata": {},
   "source": [
    "***\n",
    "### Ejercicio 10\n",
    "\n",
    "Definir la función pertenece_prof(x,l), que comprueba la pertenencia de x a una lista l anidada. Indicación: puede ser de utilidad la función \"any\" (consultar su especificación en el manual)"
   ]
  },
  {
   "cell_type": "code",
   "execution_count": null,
   "metadata": {
    "collapsed": true
   },
   "outputs": [],
   "source": []
  },
  {
   "cell_type": "code",
   "execution_count": null,
   "metadata": {
    "collapsed": true
   },
   "outputs": [],
   "source": [
    "pertenece_prof(1,[2,[3,[4,[1]]]])\n",
    "# Salida esperada:\n",
    "# True"
   ]
  },
  {
   "cell_type": "code",
   "execution_count": null,
   "metadata": {
    "collapsed": true
   },
   "outputs": [],
   "source": [
    "pertenece_prof(\"a\",[[\"c\",[\"d\",\"e\",[\"f\",\"a\"],\"g\"],\"h\"],[\"i\",[\"j\",\"k\"],\"l\"],\"b\",[\"x\",\"y\"]])\n",
    "# Salida esperada:\n",
    "# True"
   ]
  },
  {
   "cell_type": "code",
   "execution_count": null,
   "metadata": {
    "collapsed": true
   },
   "outputs": [],
   "source": [
    "pertenece_prof(\"a\",[[\"c\",[\"d\",\"e\",[\"f\",\"m\"],\"g\"],\"h\"],[\"i\",[\"j\",\"k\"],\"l\"],\"b\",[\"x\",\"y\"]])\n",
    "# Salida esperada:\n",
    "# False"
   ]
  },
  {
   "cell_type": "markdown",
   "metadata": {},
   "source": [
    "***\n",
    "### Ejercicio 11\n",
    "\n",
    "Definir una función mi_grep(cadena,fichero) similar al comando grep de unix (sin uso de patrones). Es decir, escribe por pantalla las líneas de fichero en las que ocurre cadena, junto con el número de línea. (Ver ejemplo)"
   ]
  },
  {
   "cell_type": "code",
   "execution_count": null,
   "metadata": {
    "collapsed": true
   },
   "outputs": [],
   "source": []
  },
  {
   "cell_type": "code",
   "execution_count": null,
   "metadata": {
    "collapsed": true
   },
   "outputs": [],
   "source": [
    "# Usamos el soneto \"Un soneto me manda hacer Violante\" de Lope de Vega\n",
    "# que hemos guardado en el fichero \"soneto.txt\"\n",
    "\n",
    "mi_grep(\"verso\",\"soneto.txt\")\n",
    "# Salida esperada:\n",
    "# Línea 2: catorce versos dicen que es soneto;\n",
    "#                  ^^^^^\n",
    "# Línea 10: pues fin con este verso le voy dando.\n",
    "#                             ^^^^^\n",
    "# Línea 12: que voy los trece versos acabando;\n",
    "#                             ^^^^^"
   ]
  }
 ],
 "metadata": {
  "kernelspec": {
   "display_name": "Python 3",
   "language": "python",
   "name": "python3"
  },
  "language_info": {
   "codemirror_mode": {
    "name": "ipython",
    "version": 3
   },
   "file_extension": ".py",
   "mimetype": "text/x-python",
   "name": "python",
   "nbconvert_exporter": "python",
   "pygments_lexer": "ipython3",
   "version": "3.6.2"
  }
 },
 "nbformat": 4,
 "nbformat_minor": 2
}
