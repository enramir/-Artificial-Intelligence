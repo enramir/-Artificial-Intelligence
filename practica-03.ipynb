{
 "cells": [
  {
   "cell_type": "markdown",
   "metadata": {},
   "source": [
    "# Práctica 3 - Inteligencia Artificial\n",
    "### Dpto. de CC. de la Computación e I.A. (Univ. de Sevilla)\n",
    "\n",
    "### Algoritmos genéticos"
   ]
  },
  {
   "cell_type": "markdown",
   "metadata": {},
   "source": [
    "En esta práctica veremos la implementación en Python de un algoritmo genético y su aplicación para resolver instancias concretas del problema de la mochila.\n",
    "\n",
    "Para ello, vamos a definir una clase Problema_Genetico que incluya los elementos necesarios para la representación de un problema de optimización.\n",
    "\n",
    "Estos elementos son:\n",
    "\n",
    "* genes: lista de genes usados en el genotipo de los estados.\n",
    "* longitud_individuos: longitud de los cromosomas\n",
    "* decodifica: función de obtiene el fenotipo a partir del genotipo.\n",
    "* fitness: función \n",
    "\n",
    "Todos estos datos y funciones se almacenarán en sendos atributos de datos de la clase. Además, la clase debe incluir dos métodos:\n",
    "\n",
    "* muta: mutación de un cromosoma \n",
    "* cruza: cruce de un par de cromosomas\n",
    "\n",
    "Nótese que en la definición de esta clase no se especifica si el problema es e maximización o de minimización, ya que esto se especificará como parámetro en el algoritmo genético que vamos a implementar. "
   ]
  },
  {
   "cell_type": "code",
   "execution_count": 2,
   "metadata": {
    "collapsed": true
   },
   "outputs": [],
   "source": [
    "import random"
   ]
  },
  {
   "cell_type": "markdown",
   "metadata": {},
   "source": [
    "## Parte I"
   ]
  },
  {
   "cell_type": "markdown",
   "metadata": {},
   "source": [
    "### Ejercicio 1\n",
    "En la clase Problema_Genetico definida a continuación, define los métodos \"muta\" y \"cruza\". En \"muta\" implementaremos una versión de la mutación uniforme donde cada gen tiene una probabilidad \"prob\" de ser sustituido aleatoriamente por otro. En \"cruza\", implementaremos el cruce en un punto (con punto de corte aleatorio). "
   ]
  },
  {
   "cell_type": "code",
   "execution_count": 3,
   "metadata": {
    "collapsed": true
   },
   "outputs": [],
   "source": [
    "class Problema_Genetico(object):\n",
    "    \"\"\" Clase para representar un problema para que sea abordado mediante un\n",
    "    algoritmo genético general. Consta de los siguientes atributos:\n",
    "    - genes: lista de posibles genes en un cromosoma\n",
    "    - longitud_individuos: la longitud de los cromosomas\n",
    "    - decodifica: método que recibe el fenotipo (cromosoma) y devuelve el\n",
    "      fenotipo (elemento del problema original que el cromosoma representa) \n",
    "    - fitness: método de valoración de los cromosomas (actúa sobre el\n",
    "      genotipo)\n",
    "    - muta: función que realiza una mutación de un cromosoma\n",
    "    - cruza: función que realiza un cruce entre dos cromosomas\"\"\"\n",
    "\n",
    "    def __init__(self,genes,longitud_individuos,decodifica,fitness):\n",
    "        self.genes= genes\n",
    "        self.longitud_individuos= longitud_individuos\n",
    "        self.decodifica= decodifica\n",
    "        self.fitness= fitness\n",
    "\n",
    "\n",
    "    def muta(self, c, prob):\n",
    "        cm=c[:] # Esto es para copiar todos los elementos de la lista desde principio a fin\n",
    "        for i in range(len(c)):\n",
    "            if random.random() < prob:\n",
    "                cm[i]=random.choice(self.genes)\n",
    "        return cm\n",
    "            \n",
    "\n",
    "    def cruza(self,c1,c2):\n",
    "        pos= random.randrange(1,self.longitud_individuos)\n",
    "        cr1=c1[:pos]+c2[pos:]\n",
    "        cr2=c2[:pos]+c1[pos:]\n",
    "        return [cr1,cr2]\n"
   ]
  },
  {
   "cell_type": "code",
   "execution_count": 4,
   "metadata": {},
   "outputs": [
    {
     "data": {
      "text/plain": [
       "5"
      ]
     },
     "execution_count": 4,
     "metadata": {},
     "output_type": "execute_result"
    }
   ],
   "source": [
    "random.randrange(2,7)"
   ]
  },
  {
   "cell_type": "code",
   "execution_count": null,
   "metadata": {
    "collapsed": true
   },
   "outputs": [],
   "source": []
  },
  {
   "cell_type": "markdown",
   "metadata": {},
   "source": [
    "### Ejercicio 2\n",
    "\n",
    "Definir una variable cuad_gen, que referencia a una instancia de la clase anterior, correspondiente al problema de optimizar (maximizar o minimizar) la función cuadrado en el conjunto de los números naturales menores que 2^{10}.\n",
    "\n",
    "Será necesaria la siguiente función que interpreta una lista de 0's y 1's como un número natural:  "
   ]
  },
  {
   "cell_type": "code",
   "execution_count": 5,
   "metadata": {
    "collapsed": true
   },
   "outputs": [],
   "source": [
    "def binario_a_decimal(x):\n",
    "    return sum(b*(2**i) for (i,b) in enumerate(x)) "
   ]
  },
  {
   "cell_type": "code",
   "execution_count": 6,
   "metadata": {
    "collapsed": true
   },
   "outputs": [],
   "source": [
    "# Escribe aquí la solución:\n",
    "cuad_gen=Problema_Genetico([0,1],10,binario_a_decimal,lambda x: (binario_a_decimal(x))**2)\n",
    "#El ultimo parametro que recibe toma un cromosoma y lo pasa a decimal y luego lo eleva al cuadrado\n"
   ]
  },
  {
   "cell_type": "markdown",
   "metadata": {},
   "source": [
    "Una vez definido cuad_gen, probar alguna de las funciones definidas en la clase anterior, para esta instancia concreta. Por ejemplo:"
   ]
  },
  {
   "cell_type": "code",
   "execution_count": 7,
   "metadata": {},
   "outputs": [
    {
     "data": {
      "text/plain": [
       "1329"
      ]
     },
     "execution_count": 7,
     "metadata": {},
     "output_type": "execute_result"
    }
   ],
   "source": [
    "cuad_gen.decodifica([1,0,0,0,1,1,0,0,1,0,1])\n",
    "# Salida esperada: 1329"
   ]
  },
  {
   "cell_type": "code",
   "execution_count": 8,
   "metadata": {},
   "outputs": [
    {
     "data": {
      "text/plain": [
       "1766241"
      ]
     },
     "execution_count": 8,
     "metadata": {},
     "output_type": "execute_result"
    }
   ],
   "source": [
    "cuad_gen.fitness([1,0,0,0,1,1,0,0,1,0,1])\n",
    "# Salida esperada: 1766241"
   ]
  },
  {
   "cell_type": "code",
   "execution_count": 9,
   "metadata": {},
   "outputs": [
    {
     "data": {
      "text/plain": [
       "[0, 0, 0, 0, 1, 1, 0, 0, 1, 0, 1]"
      ]
     },
     "execution_count": 9,
     "metadata": {},
     "output_type": "execute_result"
    }
   ],
   "source": [
    "cuad_gen.muta([1,0,0,0,1,1,0,0,1,0,1],0.1)\n",
    "# Posible salida: [1, 0, 0, 0, 1, 1, 0, 0, 1, 0, 1]"
   ]
  },
  {
   "cell_type": "code",
   "execution_count": 10,
   "metadata": {},
   "outputs": [
    {
     "data": {
      "text/plain": [
       "[1, 0, 0, 0, 1, 1, 0, 0, 1, 0, 1]"
      ]
     },
     "execution_count": 10,
     "metadata": {},
     "output_type": "execute_result"
    }
   ],
   "source": [
    "cuad_gen.muta([1,0,0,0,1,1,0,0,1,0,1],0.1)\n",
    "# Posible salida: [0, 0, 0, 0, 1, 1, 0, 0, 1, 0, 1]"
   ]
  },
  {
   "cell_type": "code",
   "execution_count": 11,
   "metadata": {},
   "outputs": [
    {
     "data": {
      "text/plain": [
       "[[1, 0, 0, 0, 1, 1, 0, 1, 1, 1], [0, 1, 1, 0, 1, 0, 0, 0, 1, 0, 1]]"
      ]
     },
     "execution_count": 11,
     "metadata": {},
     "output_type": "execute_result"
    }
   ],
   "source": [
    "cuad_gen.cruza([1,0,0,0,1,1,0,0,1,0,1],[0,1,1,0,1,0,0,1,1,1])\n",
    "# Posible salida: [[1, 0, 0, 0, 1, 0, 0, 1, 1, 1], [0, 1, 1, 0, 1, 1, 0, 0, 1, 0, 1]]"
   ]
  },
  {
   "cell_type": "markdown",
   "metadata": {},
   "source": [
    "### Ejercicio 3\n",
    "\n",
    "Definir una función poblacion_inicial(problema_genetico,tamaño), para definir una población inicial de un tamaño dado, para una instancia dada de la clase anterior Problema_Genetico\n",
    "\n",
    "INDICACIÓN: Usar random.choice"
   ]
  },
  {
   "cell_type": "code",
   "execution_count": 12,
   "metadata": {
    "collapsed": true
   },
   "outputs": [],
   "source": [
    "def poblacion_inicial(problema,tamaño):\n",
    "    return [[random.choice(problema.genes)\n",
    "            for _ in range(problema.longitud_individuos)]\n",
    "             for _ in range(tamaño)]\n",
    "# El _ es para hacer el indice mudo"
   ]
  },
  {
   "cell_type": "code",
   "execution_count": 13,
   "metadata": {},
   "outputs": [
    {
     "data": {
      "text/plain": [
       "[[0, 1, 0, 0, 0, 1, 0, 0, 1, 0],\n",
       " [0, 1, 1, 1, 1, 0, 1, 0, 1, 1],\n",
       " [0, 0, 1, 0, 1, 1, 0, 0, 1, 1],\n",
       " [0, 0, 1, 0, 0, 0, 1, 0, 0, 0],\n",
       " [1, 1, 1, 0, 1, 1, 0, 0, 1, 0],\n",
       " [0, 1, 1, 0, 1, 1, 0, 1, 1, 0],\n",
       " [1, 0, 0, 0, 1, 0, 1, 1, 1, 0],\n",
       " [0, 1, 0, 0, 1, 0, 0, 1, 0, 0],\n",
       " [0, 1, 1, 0, 1, 1, 1, 0, 1, 0],\n",
       " [0, 0, 0, 0, 0, 1, 1, 1, 1, 1],\n",
       " [1, 0, 0, 0, 1, 0, 1, 1, 0, 1],\n",
       " [1, 1, 0, 1, 0, 1, 1, 0, 1, 0],\n",
       " [0, 0, 1, 0, 0, 0, 1, 0, 1, 0],\n",
       " [0, 1, 0, 0, 0, 1, 1, 1, 1, 0],\n",
       " [1, 1, 0, 1, 0, 0, 1, 0, 1, 0],\n",
       " [0, 1, 1, 0, 1, 1, 1, 0, 1, 1],\n",
       " [0, 1, 0, 1, 0, 1, 0, 0, 0, 0],\n",
       " [1, 0, 1, 0, 0, 0, 0, 1, 0, 0],\n",
       " [0, 0, 0, 1, 0, 1, 1, 0, 0, 1],\n",
       " [1, 0, 1, 0, 0, 0, 0, 1, 1, 1],\n",
       " [1, 0, 1, 0, 1, 1, 0, 0, 0, 1],\n",
       " [1, 0, 0, 0, 1, 1, 1, 0, 0, 0],\n",
       " [1, 1, 1, 1, 1, 1, 0, 0, 0, 1],\n",
       " [1, 1, 0, 1, 0, 1, 0, 1, 1, 1],\n",
       " [0, 1, 0, 0, 0, 0, 0, 1, 1, 0],\n",
       " [0, 0, 1, 0, 0, 0, 1, 0, 1, 0],\n",
       " [0, 1, 1, 1, 0, 1, 1, 1, 1, 0],\n",
       " [1, 0, 1, 0, 1, 1, 1, 0, 0, 1],\n",
       " [0, 1, 1, 1, 0, 0, 0, 1, 1, 0],\n",
       " [0, 1, 0, 1, 0, 0, 0, 0, 0, 0],\n",
       " [1, 0, 1, 0, 0, 1, 0, 0, 0, 1],\n",
       " [0, 1, 1, 1, 1, 1, 0, 1, 1, 0],\n",
       " [1, 0, 1, 0, 0, 0, 1, 1, 1, 1],\n",
       " [1, 0, 0, 1, 0, 1, 0, 1, 1, 1],\n",
       " [1, 1, 0, 1, 0, 1, 0, 1, 1, 1],\n",
       " [0, 1, 0, 0, 1, 1, 0, 1, 0, 1],\n",
       " [1, 1, 1, 0, 1, 0, 1, 0, 0, 0],\n",
       " [0, 1, 1, 1, 0, 0, 0, 0, 1, 1],\n",
       " [0, 0, 0, 0, 0, 1, 1, 0, 0, 0],\n",
       " [1, 1, 1, 0, 1, 0, 1, 1, 1, 1],\n",
       " [1, 1, 0, 1, 0, 1, 0, 1, 1, 0],\n",
       " [1, 0, 1, 0, 1, 1, 0, 0, 0, 0],\n",
       " [1, 0, 1, 1, 0, 1, 1, 1, 0, 0],\n",
       " [1, 0, 1, 1, 1, 1, 0, 1, 1, 0],\n",
       " [0, 0, 1, 0, 0, 1, 1, 0, 0, 1],\n",
       " [1, 0, 0, 0, 1, 0, 1, 1, 0, 0],\n",
       " [0, 0, 1, 0, 0, 1, 1, 0, 0, 1],\n",
       " [1, 1, 1, 1, 0, 1, 0, 1, 1, 0],\n",
       " [0, 0, 0, 0, 1, 0, 1, 0, 0, 1],\n",
       " [0, 0, 0, 0, 0, 1, 1, 0, 0, 1],\n",
       " [0, 0, 0, 1, 1, 1, 0, 0, 0, 0],\n",
       " [1, 1, 1, 0, 1, 0, 1, 0, 0, 0],\n",
       " [1, 1, 1, 0, 1, 0, 0, 0, 1, 0],\n",
       " [1, 0, 0, 1, 1, 0, 1, 1, 0, 1],\n",
       " [0, 1, 1, 0, 0, 0, 1, 0, 1, 1],\n",
       " [0, 0, 0, 1, 0, 0, 1, 0, 1, 1],\n",
       " [1, 0, 1, 0, 1, 0, 0, 0, 0, 0],\n",
       " [1, 1, 0, 1, 1, 1, 1, 0, 1, 0],\n",
       " [0, 0, 0, 1, 0, 1, 1, 0, 0, 0],\n",
       " [1, 0, 1, 1, 0, 1, 1, 1, 1, 1],\n",
       " [1, 0, 0, 0, 1, 1, 0, 0, 1, 1],\n",
       " [1, 1, 0, 0, 1, 0, 1, 0, 1, 1],\n",
       " [1, 0, 1, 0, 1, 1, 0, 1, 1, 1],\n",
       " [1, 0, 0, 0, 1, 0, 0, 1, 1, 0],\n",
       " [0, 0, 0, 1, 1, 1, 1, 1, 0, 0],\n",
       " [0, 1, 0, 1, 0, 0, 1, 1, 1, 0],\n",
       " [1, 1, 1, 1, 1, 0, 0, 0, 0, 1],\n",
       " [0, 0, 1, 1, 0, 1, 0, 0, 1, 1],\n",
       " [1, 1, 0, 0, 0, 1, 0, 0, 0, 1],\n",
       " [0, 1, 1, 1, 1, 0, 0, 1, 1, 0],\n",
       " [0, 0, 1, 0, 0, 0, 0, 1, 0, 0],\n",
       " [1, 0, 0, 0, 1, 0, 1, 0, 1, 1],\n",
       " [1, 1, 0, 1, 0, 1, 0, 1, 1, 1],\n",
       " [0, 0, 0, 0, 0, 0, 0, 0, 0, 0],\n",
       " [0, 1, 0, 1, 0, 1, 0, 1, 1, 1],\n",
       " [1, 0, 1, 1, 0, 1, 1, 0, 1, 1],\n",
       " [1, 1, 0, 0, 0, 1, 0, 1, 0, 0],\n",
       " [0, 1, 1, 0, 0, 1, 0, 0, 1, 1],\n",
       " [0, 0, 1, 1, 0, 0, 1, 1, 0, 1],\n",
       " [0, 0, 0, 1, 1, 1, 0, 0, 0, 0],\n",
       " [1, 0, 1, 0, 1, 0, 0, 1, 1, 1],\n",
       " [0, 1, 1, 1, 1, 0, 1, 0, 1, 0],\n",
       " [1, 1, 0, 0, 0, 0, 1, 1, 1, 0],\n",
       " [1, 0, 1, 0, 0, 1, 0, 0, 1, 0],\n",
       " [0, 1, 0, 1, 1, 1, 0, 1, 1, 0],\n",
       " [1, 0, 1, 1, 0, 0, 0, 0, 0, 0],\n",
       " [0, 1, 1, 1, 0, 0, 1, 0, 0, 1],\n",
       " [1, 1, 1, 1, 1, 1, 0, 1, 0, 0],\n",
       " [0, 1, 0, 1, 0, 0, 1, 0, 0, 1],\n",
       " [1, 0, 0, 1, 0, 1, 1, 1, 0, 0],\n",
       " [0, 0, 0, 1, 0, 1, 1, 0, 0, 1],\n",
       " [0, 0, 0, 1, 0, 1, 1, 1, 1, 1],\n",
       " [1, 0, 1, 0, 1, 0, 0, 1, 0, 1],\n",
       " [0, 1, 0, 0, 1, 0, 0, 1, 1, 1],\n",
       " [0, 1, 1, 1, 1, 0, 1, 1, 1, 1],\n",
       " [0, 1, 1, 0, 0, 0, 0, 1, 0, 0],\n",
       " [0, 0, 1, 0, 1, 0, 0, 1, 1, 1],\n",
       " [0, 0, 1, 1, 0, 1, 0, 0, 0, 0],\n",
       " [0, 1, 0, 0, 0, 1, 1, 0, 0, 1],\n",
       " [1, 1, 1, 1, 1, 0, 0, 0, 0, 0],\n",
       " [0, 1, 1, 1, 1, 0, 0, 1, 0, 1],\n",
       " [1, 0, 1, 1, 0, 0, 1, 0, 1, 0],\n",
       " [0, 0, 0, 0, 0, 1, 1, 1, 0, 1],\n",
       " [0, 1, 0, 1, 1, 0, 0, 1, 1, 1],\n",
       " [0, 0, 0, 1, 0, 0, 1, 0, 1, 0],\n",
       " [0, 0, 1, 0, 0, 0, 1, 0, 1, 1],\n",
       " [0, 1, 1, 0, 0, 1, 1, 0, 0, 0],\n",
       " [1, 0, 0, 0, 1, 1, 0, 0, 1, 1],\n",
       " [0, 1, 1, 0, 1, 1, 1, 0, 0, 0],\n",
       " [1, 1, 1, 0, 0, 0, 1, 0, 0, 0],\n",
       " [0, 0, 1, 0, 0, 1, 1, 1, 0, 0],\n",
       " [1, 0, 1, 1, 0, 0, 0, 0, 0, 0],\n",
       " [0, 0, 0, 1, 0, 0, 0, 0, 0, 0],\n",
       " [1, 1, 1, 1, 0, 0, 1, 1, 1, 1],\n",
       " [1, 1, 0, 0, 1, 1, 1, 0, 1, 1],\n",
       " [1, 1, 1, 1, 0, 1, 0, 0, 0, 0],\n",
       " [0, 0, 0, 0, 0, 0, 1, 1, 1, 0],\n",
       " [0, 1, 0, 0, 0, 1, 0, 1, 0, 0],\n",
       " [0, 1, 0, 1, 1, 0, 0, 1, 0, 1],\n",
       " [0, 0, 0, 1, 1, 1, 1, 1, 1, 0],\n",
       " [1, 1, 1, 1, 1, 0, 0, 0, 1, 0],\n",
       " [1, 1, 0, 0, 1, 0, 1, 1, 1, 1],\n",
       " [1, 1, 0, 0, 1, 1, 1, 1, 0, 0],\n",
       " [1, 1, 1, 0, 1, 0, 1, 0, 1, 1],\n",
       " [0, 0, 1, 0, 1, 0, 0, 1, 0, 1],\n",
       " [0, 0, 0, 0, 1, 0, 0, 0, 0, 0],\n",
       " [0, 1, 0, 0, 0, 1, 1, 1, 0, 0],\n",
       " [1, 0, 0, 1, 1, 0, 0, 1, 1, 0],\n",
       " [1, 1, 1, 0, 1, 1, 0, 1, 0, 0],\n",
       " [0, 1, 1, 0, 0, 0, 1, 1, 1, 1],\n",
       " [0, 1, 0, 0, 1, 1, 0, 1, 0, 1],\n",
       " [0, 0, 0, 1, 0, 0, 1, 1, 0, 1],\n",
       " [1, 1, 1, 0, 0, 1, 0, 1, 1, 0],\n",
       " [1, 0, 0, 1, 0, 1, 0, 1, 0, 0],\n",
       " [0, 0, 0, 1, 0, 0, 0, 0, 0, 1],\n",
       " [1, 0, 0, 1, 0, 0, 0, 1, 0, 1],\n",
       " [1, 0, 1, 0, 1, 0, 0, 0, 1, 1],\n",
       " [1, 0, 0, 1, 1, 0, 1, 0, 0, 0],\n",
       " [1, 1, 1, 1, 1, 1, 1, 1, 0, 1],\n",
       " [1, 0, 0, 1, 1, 1, 1, 1, 1, 0],\n",
       " [1, 0, 0, 1, 1, 0, 0, 1, 0, 1],\n",
       " [0, 0, 1, 0, 0, 1, 1, 0, 0, 0],\n",
       " [1, 1, 1, 0, 1, 0, 1, 0, 0, 1],\n",
       " [1, 1, 1, 0, 0, 0, 1, 0, 0, 1],\n",
       " [1, 1, 1, 1, 0, 0, 0, 0, 1, 0],\n",
       " [1, 1, 1, 0, 1, 1, 1, 1, 0, 1],\n",
       " [0, 0, 1, 1, 1, 0, 1, 1, 1, 0],\n",
       " [0, 0, 1, 1, 1, 1, 1, 0, 1, 1],\n",
       " [1, 1, 0, 1, 0, 1, 1, 1, 1, 1],\n",
       " [0, 1, 1, 0, 1, 1, 1, 1, 0, 0],\n",
       " [1, 1, 0, 1, 0, 0, 1, 0, 1, 0],\n",
       " [1, 1, 0, 1, 0, 1, 1, 0, 1, 1],\n",
       " [1, 1, 0, 1, 1, 1, 1, 1, 0, 1],\n",
       " [0, 0, 0, 1, 0, 1, 1, 0, 0, 0],\n",
       " [0, 0, 1, 1, 0, 1, 0, 1, 0, 0],\n",
       " [0, 0, 0, 0, 1, 1, 0, 1, 0, 1],\n",
       " [1, 0, 1, 1, 1, 0, 1, 1, 1, 1],\n",
       " [0, 0, 1, 1, 0, 0, 0, 0, 0, 0],\n",
       " [0, 1, 0, 0, 0, 0, 1, 0, 0, 1],\n",
       " [1, 1, 1, 1, 1, 0, 0, 1, 1, 0],\n",
       " [0, 0, 0, 0, 1, 1, 0, 0, 1, 1],\n",
       " [1, 1, 1, 1, 1, 0, 1, 0, 1, 0],\n",
       " [1, 1, 1, 1, 1, 1, 1, 1, 1, 0],\n",
       " [0, 0, 1, 1, 1, 0, 1, 0, 1, 0],\n",
       " [0, 0, 0, 1, 1, 1, 1, 1, 1, 0],\n",
       " [0, 0, 0, 0, 1, 1, 0, 0, 0, 1],\n",
       " [1, 1, 0, 1, 1, 1, 0, 1, 0, 1],\n",
       " [0, 0, 0, 0, 1, 0, 1, 1, 1, 1],\n",
       " [0, 1, 0, 1, 0, 1, 0, 1, 1, 1],\n",
       " [1, 1, 1, 1, 1, 0, 1, 1, 0, 1],\n",
       " [0, 1, 1, 1, 1, 1, 1, 0, 1, 0],\n",
       " [1, 0, 1, 0, 0, 1, 1, 1, 1, 1],\n",
       " [1, 0, 0, 1, 0, 0, 0, 0, 1, 1],\n",
       " [1, 1, 1, 1, 1, 0, 1, 1, 1, 0],\n",
       " [1, 1, 1, 0, 0, 0, 0, 0, 1, 1],\n",
       " [0, 0, 1, 1, 1, 0, 1, 0, 0, 1],\n",
       " [0, 1, 1, 0, 1, 1, 0, 0, 0, 1],\n",
       " [1, 0, 1, 1, 0, 0, 0, 0, 1, 0],\n",
       " [0, 1, 0, 0, 0, 1, 1, 1, 0, 1],\n",
       " [0, 0, 1, 1, 0, 0, 1, 0, 0, 0],\n",
       " [1, 0, 1, 0, 1, 1, 1, 1, 1, 1],\n",
       " [0, 1, 1, 0, 0, 0, 1, 0, 0, 1],\n",
       " [1, 0, 1, 0, 0, 1, 1, 0, 0, 1],\n",
       " [0, 0, 1, 1, 0, 1, 0, 0, 0, 0],\n",
       " [1, 0, 1, 1, 1, 1, 0, 1, 1, 0],\n",
       " [0, 1, 1, 0, 1, 0, 0, 1, 1, 1],\n",
       " [0, 1, 0, 0, 1, 1, 0, 0, 1, 0],\n",
       " [0, 0, 0, 1, 1, 1, 0, 0, 0, 0],\n",
       " [0, 1, 0, 0, 0, 0, 0, 1, 0, 1],\n",
       " [1, 0, 1, 1, 1, 1, 0, 1, 0, 0],\n",
       " [1, 1, 1, 0, 0, 0, 1, 0, 0, 0],\n",
       " [1, 0, 0, 1, 1, 0, 1, 0, 0, 1],\n",
       " [1, 0, 0, 1, 1, 1, 0, 1, 1, 0],\n",
       " [0, 1, 1, 1, 0, 1, 1, 0, 1, 0],\n",
       " [1, 1, 1, 1, 0, 0, 1, 0, 1, 1],\n",
       " [0, 1, 1, 1, 0, 0, 0, 1, 1, 0],\n",
       " [1, 1, 1, 1, 1, 0, 0, 1, 0, 1],\n",
       " [0, 0, 1, 1, 1, 1, 0, 0, 1, 1],\n",
       " [1, 1, 1, 1, 0, 0, 0, 1, 1, 0],\n",
       " [0, 1, 1, 0, 1, 0, 1, 1, 1, 0],\n",
       " [0, 1, 0, 1, 1, 1, 0, 1, 0, 0],\n",
       " [0, 1, 0, 1, 0, 0, 1, 0, 1, 0],\n",
       " [1, 0, 0, 1, 0, 0, 1, 0, 1, 1],\n",
       " [1, 1, 0, 0, 1, 1, 1, 1, 1, 0],\n",
       " [1, 0, 0, 1, 0, 0, 1, 1, 0, 1],\n",
       " [0, 1, 1, 1, 0, 0, 1, 1, 0, 0],\n",
       " [0, 0, 0, 1, 1, 0, 0, 0, 1, 0],\n",
       " [0, 1, 0, 0, 1, 1, 0, 0, 1, 1],\n",
       " [0, 0, 1, 1, 1, 0, 0, 1, 0, 0],\n",
       " [0, 0, 1, 1, 0, 1, 1, 0, 0, 1],\n",
       " [1, 0, 1, 0, 1, 0, 0, 0, 0, 1],\n",
       " [1, 1, 1, 0, 1, 1, 1, 0, 1, 1],\n",
       " [1, 0, 0, 0, 1, 0, 0, 0, 1, 1],\n",
       " [1, 1, 0, 0, 0, 0, 0, 0, 0, 0],\n",
       " [0, 1, 0, 0, 0, 1, 1, 1, 0, 0],\n",
       " [1, 0, 1, 0, 1, 1, 0, 1, 1, 1],\n",
       " [0, 0, 1, 0, 0, 1, 0, 1, 0, 0],\n",
       " [0, 1, 1, 1, 1, 0, 1, 0, 0, 0],\n",
       " [1, 1, 1, 1, 1, 1, 1, 1, 0, 0],\n",
       " [0, 1, 0, 1, 0, 1, 0, 1, 1, 0],\n",
       " [1, 1, 0, 0, 1, 0, 1, 0, 0, 1],\n",
       " [1, 0, 0, 1, 0, 0, 0, 1, 1, 0],\n",
       " [0, 0, 1, 1, 0, 0, 0, 0, 0, 0],\n",
       " [1, 0, 0, 1, 0, 1, 1, 0, 1, 1],\n",
       " [1, 1, 0, 0, 0, 1, 1, 1, 1, 1],\n",
       " [0, 0, 0, 0, 0, 1, 1, 0, 1, 0],\n",
       " [0, 0, 0, 0, 0, 1, 1, 0, 1, 0],\n",
       " [1, 0, 1, 0, 1, 1, 0, 0, 0, 0],\n",
       " [0, 0, 1, 1, 1, 1, 0, 1, 1, 0],\n",
       " [0, 0, 0, 1, 0, 0, 0, 1, 0, 1],\n",
       " [0, 1, 0, 0, 1, 0, 1, 1, 1, 0],\n",
       " [1, 0, 0, 1, 1, 0, 0, 1, 0, 0],\n",
       " [1, 0, 0, 1, 0, 1, 1, 1, 1, 1],\n",
       " [0, 1, 1, 0, 0, 0, 1, 0, 0, 0],\n",
       " [0, 0, 1, 1, 0, 0, 0, 0, 1, 1],\n",
       " [1, 0, 1, 1, 0, 0, 0, 0, 1, 1],\n",
       " [0, 1, 0, 0, 1, 0, 1, 0, 0, 0],\n",
       " [1, 1, 1, 0, 0, 0, 0, 0, 0, 1],\n",
       " [0, 0, 1, 1, 1, 0, 1, 0, 0, 1],\n",
       " [0, 1, 1, 0, 0, 1, 1, 0, 0, 1],\n",
       " [0, 1, 0, 0, 1, 1, 0, 0, 0, 0],\n",
       " [1, 1, 0, 0, 1, 1, 0, 0, 1, 1],\n",
       " [1, 1, 0, 0, 1, 1, 1, 0, 0, 1],\n",
       " [1, 1, 1, 1, 1, 0, 0, 0, 0, 1],\n",
       " [1, 1, 0, 0, 0, 0, 0, 1, 1, 1],\n",
       " [1, 1, 0, 1, 0, 1, 0, 1, 0, 1],\n",
       " [1, 1, 0, 0, 0, 1, 1, 1, 1, 1],\n",
       " [0, 0, 1, 0, 1, 1, 0, 1, 0, 1],\n",
       " [0, 0, 1, 0, 1, 1, 1, 0, 0, 1],\n",
       " [1, 1, 0, 0, 1, 0, 1, 0, 0, 0],\n",
       " [0, 1, 0, 0, 0, 0, 1, 1, 1, 0],\n",
       " [1, 0, 1, 1, 0, 1, 0, 0, 0, 1],\n",
       " [1, 1, 0, 1, 1, 1, 1, 1, 1, 1],\n",
       " [0, 0, 1, 1, 1, 1, 1, 0, 0, 1],\n",
       " [1, 0, 1, 1, 1, 0, 1, 1, 1, 1],\n",
       " [1, 0, 1, 0, 1, 0, 0, 0, 1, 0],\n",
       " [1, 1, 1, 0, 0, 1, 1, 1, 1, 0],\n",
       " [0, 1, 0, 1, 0, 0, 0, 0, 1, 1],\n",
       " [0, 1, 0, 0, 1, 0, 0, 1, 0, 1],\n",
       " [1, 1, 1, 1, 0, 0, 1, 1, 0, 1],\n",
       " [1, 1, 1, 0, 1, 0, 1, 1, 0, 1],\n",
       " [0, 1, 0, 1, 1, 1, 1, 0, 0, 0],\n",
       " [1, 0, 1, 0, 1, 0, 0, 1, 0, 0],\n",
       " [1, 0, 0, 0, 1, 0, 0, 0, 0, 1],\n",
       " [0, 1, 0, 1, 0, 0, 0, 0, 1, 0],\n",
       " [1, 1, 0, 0, 1, 1, 0, 1, 1, 1],\n",
       " [1, 1, 1, 1, 1, 1, 0, 0, 0, 0],\n",
       " [0, 1, 0, 0, 1, 1, 1, 1, 0, 0],\n",
       " [1, 0, 0, 1, 1, 0, 1, 1, 1, 1],\n",
       " [1, 1, 0, 1, 1, 0, 1, 0, 0, 0],\n",
       " [0, 1, 0, 0, 0, 0, 0, 1, 1, 0],\n",
       " [0, 1, 0, 0, 1, 0, 0, 1, 0, 0],\n",
       " [1, 0, 0, 0, 0, 0, 0, 1, 1, 1],\n",
       " [1, 1, 1, 0, 0, 0, 1, 0, 0, 0],\n",
       " [0, 0, 1, 0, 1, 0, 1, 1, 1, 0],\n",
       " [0, 0, 0, 1, 1, 0, 1, 1, 0, 1],\n",
       " [1, 0, 1, 1, 0, 1, 1, 1, 0, 1],\n",
       " [0, 0, 1, 1, 1, 1, 1, 1, 0, 0],\n",
       " [0, 0, 0, 0, 0, 1, 1, 0, 1, 0],\n",
       " [1, 1, 1, 1, 0, 1, 1, 1, 0, 0],\n",
       " [0, 0, 1, 1, 0, 1, 0, 1, 1, 0],\n",
       " [1, 1, 1, 0, 0, 1, 1, 1, 0, 1],\n",
       " [1, 0, 0, 1, 0, 1, 0, 1, 1, 1],\n",
       " [0, 1, 1, 1, 1, 0, 0, 0, 1, 1],\n",
       " [0, 0, 1, 0, 0, 1, 1, 0, 0, 0],\n",
       " [1, 0, 1, 0, 0, 1, 1, 0, 1, 1],\n",
       " [0, 1, 1, 1, 1, 1, 0, 0, 1, 0],\n",
       " [0, 1, 0, 1, 0, 0, 0, 1, 0, 0],\n",
       " [0, 1, 1, 0, 1, 1, 1, 0, 1, 1],\n",
       " [1, 0, 1, 1, 0, 1, 0, 0, 1, 1],\n",
       " [0, 0, 0, 0, 0, 1, 1, 0, 1, 0],\n",
       " [1, 0, 1, 0, 0, 1, 1, 0, 1, 0],\n",
       " [1, 0, 1, 1, 0, 1, 0, 1, 0, 1],\n",
       " [0, 1, 1, 0, 0, 0, 0, 1, 1, 1],\n",
       " [0, 1, 1, 1, 0, 0, 1, 0, 0, 0],\n",
       " [1, 1, 0, 1, 0, 0, 0, 0, 1, 0],\n",
       " [0, 0, 0, 1, 1, 1, 1, 1, 0, 1],\n",
       " [0, 0, 0, 0, 0, 1, 0, 0, 0, 1],\n",
       " [0, 0, 1, 1, 1, 1, 1, 1, 0, 1],\n",
       " [1, 0, 1, 1, 1, 0, 0, 1, 1, 1],\n",
       " [1, 1, 1, 0, 1, 0, 1, 1, 1, 1],\n",
       " [1, 0, 1, 0, 0, 0, 1, 1, 1, 0],\n",
       " [0, 1, 0, 0, 1, 0, 1, 1, 0, 0],\n",
       " [1, 1, 0, 1, 1, 1, 1, 0, 0, 1],\n",
       " [0, 0, 1, 0, 0, 0, 1, 1, 1, 1],\n",
       " [1, 1, 1, 0, 0, 0, 1, 0, 0, 0],\n",
       " [0, 1, 1, 1, 0, 1, 1, 0, 0, 0],\n",
       " [1, 1, 1, 1, 1, 0, 1, 0, 1, 0],\n",
       " [1, 0, 0, 1, 1, 1, 0, 0, 1, 0],\n",
       " [1, 1, 0, 0, 1, 0, 0, 1, 1, 1],\n",
       " [1, 1, 0, 0, 0, 1, 1, 0, 0, 1],\n",
       " [0, 0, 1, 1, 0, 0, 1, 0, 0, 1],\n",
       " [1, 1, 0, 1, 1, 0, 1, 0, 1, 1],\n",
       " [0, 0, 0, 1, 0, 1, 0, 0, 0, 0],\n",
       " [0, 0, 1, 0, 1, 0, 1, 1, 0, 0],\n",
       " [0, 1, 0, 1, 0, 1, 1, 1, 1, 1],\n",
       " [0, 1, 0, 0, 1, 1, 1, 0, 0, 1],\n",
       " [0, 1, 0, 0, 1, 1, 1, 0, 0, 1],\n",
       " [0, 1, 1, 0, 0, 0, 0, 0, 0, 1],\n",
       " [1, 1, 1, 0, 0, 1, 1, 1, 0, 1],\n",
       " [0, 0, 0, 1, 1, 0, 1, 0, 0, 1],\n",
       " [0, 0, 0, 1, 0, 1, 1, 0, 0, 0],\n",
       " [0, 0, 1, 0, 1, 1, 0, 0, 1, 1],\n",
       " [1, 0, 1, 0, 1, 1, 1, 0, 1, 0],\n",
       " [1, 0, 0, 1, 0, 1, 1, 1, 0, 0],\n",
       " [0, 0, 0, 1, 1, 1, 1, 1, 0, 1],\n",
       " [1, 0, 1, 1, 0, 1, 0, 1, 1, 1],\n",
       " [0, 1, 1, 0, 0, 1, 1, 0, 1, 1],\n",
       " [0, 0, 0, 0, 0, 0, 1, 0, 0, 0],\n",
       " [1, 1, 0, 1, 0, 0, 1, 0, 0, 1],\n",
       " [0, 0, 1, 0, 0, 1, 0, 0, 0, 1],\n",
       " [0, 1, 1, 1, 0, 1, 0, 0, 0, 1],\n",
       " [1, 0, 0, 0, 1, 0, 1, 0, 1, 1],\n",
       " [0, 1, 0, 0, 0, 1, 1, 1, 0, 0],\n",
       " [0, 1, 1, 1, 1, 1, 1, 0, 0, 1],\n",
       " [0, 0, 1, 1, 1, 0, 1, 1, 1, 1],\n",
       " [1, 0, 0, 1, 0, 1, 0, 1, 0, 1],\n",
       " [0, 1, 0, 0, 1, 0, 1, 0, 1, 0],\n",
       " [1, 0, 0, 0, 1, 1, 1, 0, 1, 1],\n",
       " [0, 0, 0, 1, 0, 1, 0, 1, 1, 0],\n",
       " [1, 1, 0, 1, 1, 0, 1, 0, 0, 0],\n",
       " [1, 0, 1, 0, 1, 1, 1, 0, 1, 0],\n",
       " [1, 1, 1, 1, 0, 0, 1, 0, 0, 0],\n",
       " [0, 0, 1, 1, 1, 0, 0, 0, 0, 0],\n",
       " [0, 0, 1, 0, 0, 1, 1, 0, 0, 0],\n",
       " [1, 0, 1, 0, 1, 1, 1, 1, 0, 0],\n",
       " [0, 0, 1, 1, 1, 1, 0, 0, 0, 0],\n",
       " [0, 1, 0, 1, 0, 1, 0, 1, 1, 1],\n",
       " [1, 1, 0, 1, 1, 1, 0, 0, 1, 1],\n",
       " [0, 1, 1, 1, 0, 0, 0, 1, 1, 0],\n",
       " [0, 0, 1, 1, 0, 1, 0, 0, 1, 1],\n",
       " [1, 0, 1, 1, 0, 1, 0, 1, 0, 0],\n",
       " [0, 0, 1, 0, 0, 0, 1, 1, 1, 0],\n",
       " [0, 1, 1, 1, 0, 0, 1, 0, 1, 0],\n",
       " [0, 0, 0, 0, 1, 1, 1, 0, 1, 1],\n",
       " [1, 0, 0, 0, 0, 0, 1, 0, 0, 1],\n",
       " [1, 1, 1, 1, 1, 1, 1, 1, 0, 1],\n",
       " [0, 0, 1, 0, 0, 1, 0, 1, 1, 1],\n",
       " [0, 0, 0, 0, 1, 0, 1, 1, 1, 1],\n",
       " [1, 1, 0, 1, 1, 0, 1, 1, 1, 1],\n",
       " [0, 1, 1, 1, 1, 1, 0, 1, 1, 0],\n",
       " [0, 1, 1, 0, 1, 0, 1, 1, 1, 1],\n",
       " [1, 1, 0, 0, 0, 0, 1, 0, 1, 0],\n",
       " [0, 1, 0, 0, 0, 1, 1, 1, 0, 0],\n",
       " [0, 1, 1, 1, 0, 0, 1, 0, 1, 0],\n",
       " [1, 0, 0, 0, 1, 0, 1, 0, 0, 1],\n",
       " [0, 0, 0, 1, 1, 1, 1, 0, 0, 1],\n",
       " [0, 1, 1, 1, 1, 0, 0, 1, 0, 1],\n",
       " [0, 1, 1, 1, 0, 0, 0, 1, 0, 1],\n",
       " [1, 1, 0, 1, 1, 1, 0, 0, 1, 0],\n",
       " [0, 1, 1, 0, 1, 1, 1, 0, 0, 0],\n",
       " [0, 1, 0, 0, 1, 0, 1, 1, 0, 1],\n",
       " [1, 1, 0, 0, 1, 1, 1, 0, 0, 0],\n",
       " [1, 0, 1, 0, 1, 1, 0, 0, 1, 0],\n",
       " [0, 1, 1, 0, 1, 0, 0, 0, 1, 1],\n",
       " [0, 1, 0, 1, 1, 0, 0, 1, 1, 0],\n",
       " [1, 0, 1, 1, 1, 0, 0, 0, 0, 1],\n",
       " [0, 0, 1, 0, 0, 0, 0, 1, 1, 1],\n",
       " [0, 1, 1, 1, 0, 0, 0, 0, 1, 1],\n",
       " [0, 0, 1, 1, 1, 0, 1, 1, 1, 0],\n",
       " [0, 1, 0, 0, 0, 0, 1, 1, 0, 1],\n",
       " [1, 1, 1, 1, 1, 0, 0, 0, 0, 1],\n",
       " [0, 1, 0, 1, 1, 1, 1, 1, 1, 0],\n",
       " [1, 1, 0, 1, 1, 1, 0, 0, 1, 0],\n",
       " [0, 0, 0, 0, 0, 0, 1, 0, 1, 1],\n",
       " [0, 0, 0, 1, 0, 0, 0, 0, 1, 0],\n",
       " [0, 1, 0, 0, 1, 0, 1, 0, 1, 1],\n",
       " [0, 1, 0, 0, 1, 1, 1, 0, 0, 1],\n",
       " [0, 1, 1, 1, 1, 0, 0, 1, 1, 0],\n",
       " [1, 0, 0, 0, 1, 1, 0, 0, 1, 1],\n",
       " [0, 1, 1, 1, 1, 0, 0, 0, 0, 0],\n",
       " [1, 0, 1, 0, 1, 0, 1, 0, 0, 0],\n",
       " [1, 1, 1, 1, 1, 1, 1, 1, 0, 0],\n",
       " [1, 0, 0, 1, 1, 1, 0, 1, 0, 0],\n",
       " [0, 0, 0, 1, 1, 0, 1, 0, 1, 1],\n",
       " [0, 0, 0, 1, 0, 0, 0, 1, 1, 0],\n",
       " [0, 0, 1, 0, 0, 1, 1, 0, 0, 1],\n",
       " [1, 0, 1, 1, 1, 1, 1, 1, 1, 0],\n",
       " [0, 1, 1, 1, 1, 0, 0, 1, 1, 1],\n",
       " [1, 0, 0, 0, 0, 0, 1, 1, 1, 0],\n",
       " [1, 1, 0, 1, 1, 0, 1, 0, 0, 1],\n",
       " [0, 0, 1, 1, 0, 0, 0, 1, 1, 0],\n",
       " [1, 1, 0, 1, 0, 0, 1, 1, 1, 1],\n",
       " [1, 1, 1, 0, 1, 0, 0, 1, 1, 1],\n",
       " [1, 0, 0, 0, 0, 1, 0, 1, 1, 0],\n",
       " [1, 1, 1, 1, 0, 1, 0, 1, 1, 0],\n",
       " [0, 1, 1, 1, 1, 0, 1, 0, 1, 0],\n",
       " [0, 1, 1, 1, 0, 1, 0, 1, 1, 1],\n",
       " [1, 1, 1, 0, 1, 0, 1, 1, 1, 1],\n",
       " [0, 1, 1, 1, 1, 1, 1, 1, 1, 1],\n",
       " [0, 0, 0, 1, 0, 1, 1, 1, 0, 0],\n",
       " [1, 1, 0, 0, 0, 1, 1, 1, 1, 1],\n",
       " [1, 0, 1, 1, 1, 1, 1, 0, 0, 0],\n",
       " [0, 1, 1, 0, 1, 0, 1, 0, 0, 1],\n",
       " [1, 0, 1, 0, 0, 1, 1, 0, 1, 1],\n",
       " [1, 0, 1, 0, 1, 0, 1, 1, 0, 0],\n",
       " [0, 1, 0, 1, 1, 0, 1, 1, 1, 0],\n",
       " [0, 1, 1, 1, 1, 0, 1, 1, 1, 0],\n",
       " [1, 0, 1, 1, 0, 0, 0, 0, 1, 1],\n",
       " [1, 1, 1, 0, 1, 0, 1, 0, 1, 0],\n",
       " [0, 1, 0, 1, 0, 1, 1, 0, 1, 0],\n",
       " [1, 1, 0, 0, 0, 1, 1, 0, 1, 1],\n",
       " [1, 0, 0, 0, 0, 0, 1, 0, 1, 1],\n",
       " [1, 1, 0, 1, 1, 1, 0, 0, 0, 1],\n",
       " [1, 0, 1, 1, 1, 1, 1, 1, 1, 0],\n",
       " [0, 0, 0, 1, 1, 0, 0, 0, 1, 1],\n",
       " [1, 1, 1, 1, 0, 1, 0, 0, 1, 1],\n",
       " [0, 0, 1, 0, 0, 1, 0, 0, 0, 0],\n",
       " [0, 0, 1, 0, 1, 0, 1, 1, 1, 1],\n",
       " [1, 0, 0, 0, 0, 0, 0, 1, 1, 0],\n",
       " [0, 1, 0, 0, 1, 1, 1, 1, 1, 0],\n",
       " [0, 0, 1, 0, 1, 0, 1, 1, 0, 0],\n",
       " [1, 1, 1, 1, 1, 1, 0, 0, 0, 1],\n",
       " [0, 1, 0, 1, 1, 0, 0, 0, 0, 1],\n",
       " [0, 1, 0, 0, 1, 0, 0, 1, 0, 1],\n",
       " [1, 1, 1, 0, 0, 1, 1, 0, 0, 1],\n",
       " [1, 1, 0, 0, 0, 0, 1, 0, 1, 1],\n",
       " [1, 0, 0, 1, 0, 0, 0, 0, 0, 1],\n",
       " [1, 1, 1, 0, 0, 1, 1, 1, 0, 0],\n",
       " [0, 0, 0, 1, 0, 1, 1, 1, 1, 1],\n",
       " [0, 0, 1, 0, 1, 1, 1, 1, 1, 0],\n",
       " [1, 1, 0, 1, 1, 0, 1, 0, 1, 0],\n",
       " [0, 0, 1, 1, 1, 1, 1, 1, 0, 1],\n",
       " [1, 1, 0, 1, 1, 0, 0, 0, 0, 0],\n",
       " [1, 0, 0, 0, 1, 1, 1, 1, 0, 1],\n",
       " [0, 0, 0, 0, 0, 1, 0, 1, 0, 0],\n",
       " [0, 0, 1, 1, 1, 1, 1, 0, 0, 0],\n",
       " [0, 1, 0, 1, 0, 1, 1, 1, 1, 1],\n",
       " [1, 0, 0, 1, 0, 1, 1, 1, 0, 0],\n",
       " [1, 0, 1, 0, 1, 0, 1, 1, 1, 0],\n",
       " [1, 0, 0, 1, 0, 1, 1, 0, 0, 1],\n",
       " [1, 0, 1, 1, 0, 1, 0, 0, 0, 1],\n",
       " [0, 1, 0, 0, 1, 1, 0, 1, 0, 0],\n",
       " [1, 1, 0, 0, 0, 1, 1, 1, 0, 1],\n",
       " [0, 1, 0, 1, 0, 0, 0, 0, 1, 1],\n",
       " [1, 0, 0, 1, 0, 0, 1, 0, 1, 1],\n",
       " [0, 0, 0, 0, 0, 0, 0, 1, 0, 1],\n",
       " [1, 0, 0, 1, 0, 0, 1, 0, 0, 1],\n",
       " [0, 1, 0, 1, 1, 0, 1, 0, 1, 1],\n",
       " [1, 1, 1, 0, 0, 1, 0, 1, 1, 1],\n",
       " [1, 1, 0, 0, 1, 1, 1, 0, 1, 1],\n",
       " [0, 0, 0, 0, 1, 0, 1, 1, 0, 1],\n",
       " [0, 1, 1, 1, 1, 1, 0, 0, 1, 1],\n",
       " [1, 0, 0, 1, 0, 1, 1, 0, 1, 1],\n",
       " [1, 1, 1, 1, 0, 0, 1, 0, 1, 0],\n",
       " [0, 0, 0, 1, 0, 0, 1, 0, 1, 0],\n",
       " [1, 0, 1, 0, 1, 1, 1, 1, 1, 0],\n",
       " [0, 1, 1, 0, 1, 1, 1, 1, 1, 1],\n",
       " [1, 0, 1, 0, 1, 1, 1, 0, 0, 1],\n",
       " [1, 1, 1, 1, 0, 0, 1, 0, 1, 0],\n",
       " [0, 1, 0, 1, 0, 0, 1, 1, 1, 0],\n",
       " [1, 1, 1, 1, 1, 1, 0, 1, 0, 1],\n",
       " [0, 1, 0, 0, 1, 0, 1, 0, 0, 1],\n",
       " [0, 0, 1, 1, 1, 0, 1, 0, 0, 0],\n",
       " [1, 0, 0, 0, 1, 0, 1, 0, 0, 1],\n",
       " [0, 1, 0, 1, 1, 0, 0, 1, 1, 1],\n",
       " [0, 0, 1, 0, 1, 1, 1, 1, 0, 1],\n",
       " [1, 0, 0, 1, 1, 1, 1, 0, 0, 1],\n",
       " [1, 0, 1, 1, 0, 1, 0, 1, 0, 1],\n",
       " [1, 1, 1, 1, 0, 0, 0, 1, 0, 1],\n",
       " [0, 0, 0, 0, 0, 1, 0, 1, 0, 1],\n",
       " [0, 0, 0, 1, 0, 1, 1, 1, 0, 1],\n",
       " [1, 0, 0, 1, 1, 0, 1, 1, 1, 0],\n",
       " [1, 1, 1, 1, 0, 1, 0, 1, 0, 1],\n",
       " [0, 0, 1, 0, 1, 0, 0, 0, 0, 0],\n",
       " [1, 1, 0, 1, 1, 1, 1, 1, 0, 1],\n",
       " [0, 0, 1, 0, 1, 0, 1, 1, 1, 0],\n",
       " [0, 0, 0, 0, 1, 0, 0, 0, 1, 1],\n",
       " [0, 1, 1, 0, 0, 1, 1, 0, 0, 0],\n",
       " [0, 1, 1, 1, 1, 0, 0, 1, 0, 1],\n",
       " [1, 1, 0, 1, 0, 1, 1, 1, 1, 1],\n",
       " [0, 0, 0, 1, 0, 0, 1, 0, 1, 1],\n",
       " [0, 0, 0, 1, 0, 0, 1, 1, 0, 0],\n",
       " [0, 1, 1, 1, 1, 0, 1, 0, 1, 0],\n",
       " [1, 1, 0, 0, 1, 0, 0, 1, 1, 0],\n",
       " [0, 0, 0, 0, 1, 0, 0, 0, 0, 1],\n",
       " [0, 1, 0, 0, 1, 0, 0, 0, 1, 0],\n",
       " [1, 0, 0, 0, 0, 1, 1, 1, 0, 0],\n",
       " [0, 0, 0, 0, 1, 1, 0, 1, 1, 1],\n",
       " [0, 1, 1, 1, 0, 1, 1, 0, 1, 0]]"
      ]
     },
     "execution_count": 13,
     "metadata": {},
     "output_type": "execute_result"
    }
   ],
   "source": [
    "poblacion_inicial(cuad_gen,500)\n",
    "# Posible salida\n",
    "# [[1, 1, 0, 1, 1, 0, 1, 0, 1, 0],\n",
    "#  [0, 1, 1, 0, 0, 0, 1, 0, 0, 1],\n",
    "#  ...\n",
    "#  [1, 0, 0, 1, 0, 0, 0, 1, 1, 1]]"
   ]
  },
  {
   "cell_type": "markdown",
   "metadata": {},
   "source": [
    "### Ejercicio 4\n",
    "\n",
    "Definir una función cruza_padres(problema_genetico,padres), que recibiendo una instancia de Problema_Genetico y una población de padres (supondremos que hay un número par de padres), obtiene la población resultante de cruzarlos de dos en dos (en el orden en que aparecen)"
   ]
  },
  {
   "cell_type": "code",
   "execution_count": 14,
   "metadata": {
    "collapsed": true
   },
   "outputs": [],
   "source": [
    "def cruza_padres(problema_genetico,padres):\n",
    "    hijos=[]\n",
    "    for i in range(0,len(padres),2):  #El 2 porque va pasando de par en par\n",
    "        hijos.extend(problema_genetico.cruza(padres[i],padres[i+1]))\n",
    "    return hijos"
   ]
  },
  {
   "cell_type": "code",
   "execution_count": 15,
   "metadata": {},
   "outputs": [
    {
     "data": {
      "text/plain": [
       "[[1, 1, 0, 1, 0, 0, 1, 0, 1, 1],\n",
       " [0, 1, 0, 1, 0, 1, 0, 0, 0, 1],\n",
       " [0, 0, 1, 0, 1, 1, 1, 1, 1, 0],\n",
       " [0, 0, 1, 1, 0, 0, 1, 1, 1, 0],\n",
       " [0, 1, 1, 0, 0, 0, 1, 1, 0, 1],\n",
       " [1, 0, 1, 1, 1, 0, 0, 0, 0, 0]]"
      ]
     },
     "execution_count": 15,
     "metadata": {},
     "output_type": "execute_result"
    }
   ],
   "source": [
    "p1 = [[1, 1, 0, 1, 0, 1, 0, 0, 0, 1],\n",
    "      [0, 1, 0, 1, 0, 0, 1, 0, 1, 1],\n",
    "      [0, 0, 1, 0, 0, 0, 1, 1, 1, 0],\n",
    "      [0, 0, 1, 1, 1, 1, 1, 1, 1, 0],\n",
    "      [0, 1, 1, 0, 0, 0, 0, 0, 0, 0],\n",
    "      [1, 0, 1, 1, 1, 0, 1, 1, 0, 1]]\n",
    "\n",
    "cruza_padres(cuad_gen,p1)\n",
    "# Posible salida\n",
    "# [[1, 1, 0, 1, 0, 0, 1, 0, 1, 1],\n",
    "#  [0, 1, 0, 1, 0, 1, 0, 0, 0, 1],\n",
    "#  [0, 0, 1, 1, 1, 1, 1, 1, 1, 0],\n",
    "#  [0, 0, 1, 0, 0, 0, 1, 1, 1, 0],\n",
    "#  [0, 1, 1, 1, 1, 0, 1, 1, 0, 1],\n",
    "#  [1, 0, 1, 0, 0, 0, 0, 0, 0, 0]]"
   ]
  },
  {
   "cell_type": "markdown",
   "metadata": {},
   "source": [
    "### Ejercicio 5\n",
    "\n",
    "Definir una función muta_individuos(problema_genetico, poblacion, prob), que recibiendo una instancia de Problema_Genetico, una población y una probabilidad de mutación, obtiene la población resultante de aplicar operaciones de mutación a cada individuo. "
   ]
  },
  {
   "cell_type": "code",
   "execution_count": 16,
   "metadata": {
    "collapsed": true
   },
   "outputs": [],
   "source": [
    "def muta_individuos(problema,poblacion,prob):\n",
    "    return [problema.muta(individuo,prob) for individuo in poblacion]"
   ]
  },
  {
   "cell_type": "code",
   "execution_count": 17,
   "metadata": {},
   "outputs": [
    {
     "data": {
      "text/plain": [
       "[[1, 1, 1, 1, 0, 1, 0, 0, 0, 1],\n",
       " [0, 0, 0, 1, 0, 0, 1, 0, 1, 1],\n",
       " [1, 0, 1, 0, 0, 0, 1, 1, 1, 1],\n",
       " [0, 0, 1, 1, 1, 1, 0, 1, 1, 0],\n",
       " [0, 1, 1, 0, 0, 0, 0, 1, 0, 0],\n",
       " [1, 0, 1, 1, 0, 0, 1, 1, 0, 1]]"
      ]
     },
     "execution_count": 17,
     "metadata": {},
     "output_type": "execute_result"
    }
   ],
   "source": [
    "muta_individuos(cuad_gen,p1,0.1)\n",
    "# Posible salida:\n",
    "#  [[1, 1, 0, 1, 0, 1, 0, 0, 0, 1],\n",
    "#   [0, 1, 0, 1, 0, 0, 1, 0, 0, 1],\n",
    "#   [0, 0, 1, 0, 0, 0, 1, 0, 1, 0],\n",
    "#   [0, 0, 1, 1, 1, 1, 1, 1, 1, 0],\n",
    "#   [0, 1, 0, 0, 0, 0, 0, 0, 0, 0],\n",
    "#   [1, 0, 1, 1, 1, 0, 1, 1, 0, 1]]"
   ]
  },
  {
   "cell_type": "markdown",
   "metadata": {},
   "source": [
    "### Ejercicio 6\n",
    "\n",
    "Definir una función seleccion\\_por\\_torneo(problema_genetico,poblacion,n,k,opt) que implementa la selección mediante torneo de n individuos de una población.  Esta función recibe como entrada una instancia de Problema_Genetico, una población, un número natural n (número de individuos a seleccionar) un número natural k (número de participantes en el torneo) y un valor opt que puede ser o la función max o la función min (dependiendo de si el problema es de maximización o de minimización, resp.).\n",
    "\n",
    "INDICACIÓN: Usar random.sample "
   ]
  },
  {
   "cell_type": "code",
   "execution_count": 18,
   "metadata": {
    "collapsed": true
   },
   "outputs": [],
   "source": [
    "def selecciona_uno_por_torneo(problema,poblacion,k,opt): #opt es la funcion max o min\n",
    "    participantes=random.sample(poblacion,k)  #Extrae k elementos de la poblacion\n",
    "    return opt(participantes,key=problema.fitness)\n",
    "\n",
    "def seleccion_por_torneo(problema,poblacion,n,k,opt):\n",
    "    return[selecciona_uno_por_torneo(problema,poblacion,k,opt)\n",
    "               for _ in range(n)]"
   ]
  },
  {
   "cell_type": "markdown",
   "metadata": {},
   "source": [
    "La siguiente función algoritmo_genetico_t implementa el primero de los algoritmos genéticos vistos en clase (el de selección por torneo:\n",
    "\n",
    "\n"
   ]
  },
  {
   "cell_type": "code",
   "execution_count": 19,
   "metadata": {
    "collapsed": true
   },
   "outputs": [],
   "source": [
    "#  t := 0\n",
    "# Inicia-Población P(t)\n",
    "# Evalúa-Población P(t)\n",
    "# Mientras t < N-Generaciones hacer\n",
    "#    P1 := Selección por torneo de (1-r)·p individuos de P(t)\n",
    "#    P2 := Selección por torneo de (r·p) individuos de P(t)\n",
    "#    P3 := Cruza P2\n",
    "#    P4 := Union de P1 y P3\n",
    "#    P(t+1) := Muta P4\n",
    "#    Evalua-Población P(t+1)\n",
    "#    t:= t+1\n",
    "# Fin-Mientras\n",
    "# Devolver el mejor de P(t)\n",
    "\n",
    "def algoritmo_genetico_t(problema_genetico,k,opt,ngen,tamaño,prop_cruces,prob_mutar):\n",
    "    poblacion= poblacion_inicial(problema_genetico,tamaño)\n",
    "    n_padres=round(tamaño*prop_cruces)\n",
    "    n_padres= (n_padres if n_padres%2==0 else n_padres-1)\n",
    "    n_directos= tamaño-n_padres\n",
    "\n",
    "    for _ in range(ngen):\n",
    "        poblacion= nueva_generacion_t(problema_genetico,k,opt,poblacion,n_padres,n_directos,prob_mutar)\n",
    "\n",
    "    mejor_cr= opt(poblacion, key=problema_genetico.fitness)\n",
    "    mejor=problema_genetico.decodifica(mejor_cr)\n",
    "    return (mejor,problema_genetico.fitness(mejor_cr)) \n",
    "\n",
    "# Sus argumentos de entrada son:\n",
    "\n",
    "# * problema_genetico: una instancia de la clase Problema_Genetico, con el\n",
    "#   problema de optimización que se quiere resolver.\n",
    "# * k: número de participantes en los torneos de selección.\n",
    "# * opt: max ó min, dependiendo si el problema es de maximización o de\n",
    "#   minimización. \n",
    "# * ngen: número de generaciones (condición de terminación)\n",
    "# * tamaño: número de individuos en cada generación\n",
    "# * prop_cruces: proporción del total de la población que serán padres. \n",
    "# * prob_mutar: probabilidad de realizar una mutación de un gen."
   ]
  },
  {
   "cell_type": "markdown",
   "metadata": {},
   "source": [
    "### Ejercicio 7\n",
    "\n",
    "Se pide definir la única función auxiliar que queda por definir en el algoritmo anterior; es decir, la función nueva_generacion_t(problema_genetico,poblacion,n_padres,n_directos,prob_mutar) que a partir de una población dada, calcula la siguiente generación."
   ]
  },
  {
   "cell_type": "code",
   "execution_count": 20,
   "metadata": {
    "collapsed": true
   },
   "outputs": [],
   "source": [
    "def nueva_generacion_t(problema_genetico,k,opt,poblacion,n_padres,n_directos,prob_mutar):\n",
    "    padres = seleccion_por_torneo(problema_genetico,poblacion,n_padres,k,opt)\n",
    "    directos=seleccion_por_torneo(problema_genetico,poblacion,n_directos,k,opt)\n",
    "    hijos=cruza_padres(problema_genetico,padres)\n",
    "    return muta_individuos(problema_genetico, hijos+directos, prob_mutar)\n",
    "    "
   ]
  },
  {
   "cell_type": "markdown",
   "metadata": {},
   "source": [
    "Una vez definida, ejecutar el algoritmo genético anterior, para resolver el problema cuad_gen (tanto en minimización como en maximización), como muestran los ejemplos\n",
    "\n",
    "NOTA: téngase en cuenta que el algoritmo genético devuelve un par con el mejor fenotipo encontrado, y su valoración."
   ]
  },
  {
   "cell_type": "code",
   "execution_count": 21,
   "metadata": {},
   "outputs": [
    {
     "data": {
      "text/plain": [
       "(0, 0)"
      ]
     },
     "execution_count": 21,
     "metadata": {},
     "output_type": "execute_result"
    }
   ],
   "source": [
    "algoritmo_genetico_t(cuad_gen,3,min,20,10,0.7,0.1)\n",
    "# Salida esperada: (0, 0)"
   ]
  },
  {
   "cell_type": "code",
   "execution_count": 22,
   "metadata": {},
   "outputs": [
    {
     "data": {
      "text/plain": [
       "(1023, 1046529)"
      ]
     },
     "execution_count": 22,
     "metadata": {},
     "output_type": "execute_result"
    }
   ],
   "source": [
    "algoritmo_genetico_t(cuad_gen,3,max,20,10,0.7,0.1)\n",
    "# Salida esperada: (1023, 1046529)"
   ]
  },
  {
   "cell_type": "markdown",
   "metadata": {},
   "source": [
    "## Parte II\n",
    "### Representación del problema de la mochila"
   ]
  },
  {
   "cell_type": "markdown",
   "metadata": {},
   "source": [
    "Problema de la mochila: dados n objetos de pesos p_i y valor v_i (i=1,...,n), seleccionar cuáles se meten en una mochila que soporta un peso P máximo, de manera que se máximice el valor de los objetos introducidos. \n",
    "\n",
    "En el tema de teoría, se explica cómo se puede representar este problema para ser abordado por un algoritmo genético. En esta parte se pide implementar esa representación.\n",
    "\n",
    "Representación:\n",
    "Genes = [0,1] y longitud de los individuos n 1 ó 0 representan, respectivamente, si el objeto se introduce o no en la mochila Tomados de izquerda a derecha, a partir del primero que no cabe, se consideran  todos fuera de la mochila,independientemente del gen en su posición. De esta manera,  todos los individuos representan candidatos válidos"
   ]
  },
  {
   "cell_type": "markdown",
   "metadata": {},
   "source": [
    "### Ejercicio 8\n",
    "\n",
    "Definir una función decodifica_mochila(cromosoma, n_objetos, pesos, capacidad) que recibe como entrada:\n",
    "\n",
    "* un cromosoma (en este caso, una lista de 0s y 1s, de longitud igual a n_objetos) \n",
    "* n_objetos: número total de objetos de la mochila\n",
    "* pesos: una lista con los pesos de los objetos\n",
    "* capacidad: peso máximo de la mochila.\n",
    "\n",
    "Tal y como vimos en clase, esta función debe devolver una lista de 0s y 1s que indique qué objetos están en la mochila y cuáles no (el objeto i está en la mochila si y sólo si en la posición i-ésima de la lista hay un 1). Esta lista se obtendrá a partir del cromosoma, pero teniendo en cuenta que a partir del primer objeto que no quepa, éste y los siguientes se consideran fuera de la mochila, independientemente del valor que haya en su correspondiente posición de cromosoma. "
   ]
  },
  {
   "cell_type": "code",
   "execution_count": null,
   "metadata": {
    "collapsed": true
   },
   "outputs": [],
   "source": []
  },
  {
   "cell_type": "code",
   "execution_count": null,
   "metadata": {
    "collapsed": true
   },
   "outputs": [],
   "source": [
    "decodifica_mochila([1,1,1,1,1], 5, [2,3,4,5], 5)"
   ]
  },
  {
   "cell_type": "markdown",
   "metadata": {},
   "source": [
    "### Ejercicio 9\n",
    "\n",
    "Definir una función fitness_mochila(cromosoma, n_objetos, pesos, capacidad, valores) que devuelva el valor total de los objetos que están dentro de la mochila que representa el cromosma, según la codificación explicada en el ejercicio anterior. Aquí valores es la lista de los valores de cada objeto y el resto de argumentos son los mismos que en el ejercicio anterior."
   ]
  },
  {
   "cell_type": "code",
   "execution_count": 25,
   "metadata": {
    "collapsed": true
   },
   "outputs": [],
   "source": [
    "def fitness_mochila(cromosoma, n_objetos, pesos, capacidad, valores):\n",
    "    valor_acum=0\n",
    "    peso_acum=0\n",
    "    i=0\n",
    "    while peso_acum < capacidad and i < n_objetos:\n",
    "        if cromosoma[i] == 1:\n",
    "            if peso_acum + pesos[i] <=capacidad:\n",
    "                valor_acum += valores[i]\n",
    "                peso_acum += pesos[i]\n",
    "            else:\n",
    "                break\n",
    "        i+=1\n",
    "    return valor_acum"
   ]
  },
  {
   "cell_type": "code",
   "execution_count": 26,
   "metadata": {},
   "outputs": [
    {
     "data": {
      "text/plain": [
       "8"
      ]
     },
     "execution_count": 26,
     "metadata": {},
     "output_type": "execute_result"
    }
   ],
   "source": [
    "fitness_mochila([1,1,1,1,1], 5, [2,3,4,5], 5, [7,1,4,5,6])"
   ]
  },
  {
   "cell_type": "markdown",
   "metadata": {},
   "source": [
    "## Parte III: Resolviendo instancias del problema de la mochila"
   ]
  },
  {
   "cell_type": "markdown",
   "metadata": {},
   "source": [
    "Damos aquí tres instancias concretas del problema de la mochila. Damos también sus soluciones optimas, para que se puedan comparar con los resultados obtenidos por el algoritmo genético:"
   ]
  },
  {
   "cell_type": "code",
   "execution_count": null,
   "metadata": {
    "collapsed": true
   },
   "outputs": [],
   "source": [
    "# Problema de la mochila 1:\n",
    "# 10 objetos, peso máximo 165\n",
    "pesos1 = [23,31,29,44,53,38,63,85,89,82]\n",
    "valores1 = [92,57,49,68,60,43,67,84,87,72]\n",
    "\n",
    "# Solución óptima= [1,1,1,1,0,1,0,0,0,0], con valor 309"
   ]
  },
  {
   "cell_type": "code",
   "execution_count": null,
   "metadata": {
    "collapsed": true
   },
   "outputs": [],
   "source": [
    "# Problema de la mochila 2:\n",
    "# 15 objetos, peso máximo 750\n",
    "\n",
    "pesos2 = [70,73,77,80,82,87,90,94,98,106,110,113,115,118,120]\n",
    "valores2 = [135,139,149,150,156,163,173,184,192,201,210,214,221,229,240]\n",
    "\n",
    "# Solución óptima= [1,0,1,0,1,0,1,1,1,0,0,0,0,1,1] con valor 1458"
   ]
  },
  {
   "cell_type": "code",
   "execution_count": null,
   "metadata": {
    "collapsed": true
   },
   "outputs": [],
   "source": [
    "# Problema de la mochila 3:\n",
    "# 24 objetos, peso máximo 6404180\n",
    "pesos3 = [382745,799601,909247,729069,467902, 44328,\n",
    "       34610,698150,823460,903959,853665,551830,610856,\n",
    "       670702,488960,951111,323046,446298,931161, 31385,496951,264724,224916,169684]\n",
    "valores3 = [825594,1677009,1676628,1523970, 943972,  97426,\n",
    "       69666,1296457,1679693,1902996,\n",
    "       1844992,1049289,1252836,1319836, 953277,2067538, 675367,\n",
    "       853655,1826027, 65731, 901489, 577243, 466257, 369261]\n",
    "\n",
    "# Solución óptima= [1,1,0,1,1,1,0,0,0,1,1,0,1,0,0,1,0,0,0,0,0,1,1,1] con valoración 13549094"
   ]
  },
  {
   "cell_type": "markdown",
   "metadata": {},
   "source": [
    "### Ejercicio 10\n",
    "\n",
    "Definir variables m1g, m2g y m3g, referenciando a instancias de Problema_Genetico que correspondan, respectivamente, a los problemas de la mochila anteriores."
   ]
  },
  {
   "cell_type": "code",
   "execution_count": null,
   "metadata": {
    "collapsed": true
   },
   "outputs": [],
   "source": []
  },
  {
   "cell_type": "markdown",
   "metadata": {},
   "source": [
    "Usar las instancias anteriores para resolver estos problemas. A continuación tenéis algunas de las salidas posibles variando los parámetros."
   ]
  },
  {
   "cell_type": "code",
   "execution_count": null,
   "metadata": {
    "collapsed": true
   },
   "outputs": [],
   "source": [
    "# >>> algoritmo_genetico_t(m1g,3,max,100,50,0.8,0.05)\n",
    "# ([1, 1, 1, 1, 0, 1, 0, 0, 0, 0], 309)\n",
    "\n",
    "# >>> algoritmo_genetico_t(m2g,3,max,100,50,0.8,0.05)\n",
    "# ([1, 1, 1, 0, 0, 0, 0, 1, 1, 0, 1, 1, 1, 0, 0], 1444)\n",
    "# >>> algoritmo_genetico_t(m2g,3,max,200,100,0.8,0.05)\n",
    "# ([0, 0, 1, 0, 1, 1, 1, 1, 1, 1, 0, 0, 1, 0, 0], 1439)\n",
    "# >>> algoritmo_genetico_t(m2g,3,max,200,100,0.8,0.05)\n",
    "# ([1, 0, 1, 0, 1, 0, 1, 1, 1, 0, 0, 0, 0, 1, 1], 1458)\n",
    "\n",
    "# >>> algoritmo_genetico_t(m3g,5,max,400,200,0.75,0.1)\n",
    "# ([1, 1, 0, 1, 0, 1, 1, 0, 1, 1, 1, 0, 1, 0, 0, 1, 0, 0, 0, 0, 0, 1, 0, 0], 13518963)\n",
    "# >>> algoritmo_genetico_t(m3g,4,max,600,200,0.75,0.1)\n",
    "# ([1, 1, 0, 1, 1, 1, 1, 0, 0, 1, 1, 0, 1, 0, 0, 1, 1, 0, 0, 1, 0, 1, 0, 0], 13524340)\n",
    "# >>> algoritmo_genetico_t(m3g,4,max,1000,200,0.75,0.1)\n",
    "# ([1, 1, 0, 1, 0, 0, 0, 0, 1, 1, 1, 0, 1, 0, 0, 1, 1, 0, 0, 0, 0, 0, 0, 0], 13449995)\n",
    "# >>> algoritmo_genetico_t(m3g,3,max,1000,100,0.75,0.1)\n",
    "# ([1, 1, 0, 0, 0, 1, 1, 0, 1, 1, 1, 0, 1, 1, 0, 1, 1, 0, 0, 0, 0, 0, 0, 0], 13412953)\n",
    "# >>> algoritmo_genetico_t(m3g,3,max,2000,100,0.75,0.1)\n",
    "# ([0, 1, 0, 1, 0, 1, 0, 0, 1, 1, 1, 0, 1, 1, 0, 1, 0, 0, 0, 0, 0, 0, 0, 0], 13366296)\n",
    "# >>> algoritmo_genetico_t(m3g,6,max,2000,100,0.75,0.1)\n",
    "# ([1, 1, 0, 1, 1, 1, 0, 0, 0, 1, 1, 0, 1, 0, 0, 1, 0, 0, 0, 0, 0, 1, 1, 1], 13549094)"
   ]
  }
 ],
 "metadata": {
  "kernelspec": {
   "display_name": "Python 3",
   "language": "python",
   "name": "python3"
  },
  "language_info": {
   "codemirror_mode": {
    "name": "ipython",
    "version": 3
   },
   "file_extension": ".py",
   "mimetype": "text/x-python",
   "name": "python",
   "nbconvert_exporter": "python",
   "pygments_lexer": "ipython3",
   "version": "3.6.2"
  }
 },
 "nbformat": 4,
 "nbformat_minor": 2
}
